{
 "cells": [
  {
   "cell_type": "code",
   "execution_count": 1,
   "metadata": {},
   "outputs": [],
   "source": [
    "# Import packages to use\n",
    "import twint\n",
    "import pandas as pd\n",
    "\n",
    "# Patches asyncio to allow the running of multiple event loops in Jupyter Notebooks.\n",
    "# Fixes: \"RuntimeError: This event loop is already running\"\n",
    "import nest_asyncio\n",
    "\n",
    "nest_asyncio.apply()"
   ]
  },
  {
   "cell_type": "markdown",
   "metadata": {},
   "source": [
    "Dates of interest: 2019/07/13-14"
   ]
  },
  {
   "cell_type": "code",
   "execution_count": 9,
   "metadata": {},
   "outputs": [],
   "source": [
    "df = pd.DataFrame()"
   ]
  },
  {
   "cell_type": "code",
   "execution_count": 10,
   "metadata": {
    "scrolled": true
   },
   "outputs": [
    {
     "name": "stdout",
     "output_type": "stream",
     "text": [
      "1150157572978159622 2019-07-13 17:38:28 -0500 <EnLopes> Viendo a la @la_prohibida en Santa Coloma de Gramenet #LGTBIQ+  https://t.co/j0Ng3aZWAs\n",
      "1150145991082987522 2019-07-13 16:52:27 -0500 <Alexis69836135> RESCATE DE UN PERRO EN SANTA COLOMA DE GRAMENET  Sobre las 16.00h. se ha detectado en la calle Mossèn Jacint Verdaguer, 70 un perro en una cornisa a punto de caer. Agentes de Polucía Local han rescatado al animal y lo han trasladado a dependencias  https://t.co/oAAqTWvyyd\n",
      "1150138551813771264 2019-07-13 16:22:53 -0500 <com_accion> POLICIA LOCAL DE SANTA COLOMA DE GRAMENET RESCATA UN PERRO  Sobre las 16.00h. se ha detectado en la calle Mossèn Jacint Verdaguer, 70 un perro en una cornisa a punto de caer. @GUBCNCSIF @elperiodico @A3Noticias @CSIFnacional @Goas1Goas @LaVanguardia @csifgirona  https://t.co/VEZxsmMvtD\n",
      "1150118626420240384 2019-07-13 15:03:43 -0500 <rickaos17> Paella, debate, mitin y poesía... Festa del #NouTreball 2019del @psuc_viu y la @JSUC_cat edunavarro ensanropce en Santa Coloma de Gramenet  https://t.co/KhHEFCf5H5\n",
      "1150110392854753280 2019-07-13 14:31:00 -0500 <La_Directa> #REPRESSIÓ | Ràtzia dels #Mossos d'Esquadra contra antifeixistes de Santa Coloma de Gramenet per oposar-se a una manifestació neonazi no comunicada  https://t.co/TEEZNSt5So Ho explica @dvdbou  https://t.co/MwvouavAfn\n",
      "1150095440794144768 2019-07-13 13:31:35 -0500 <transitb10> Circulació amb retencions (Retenció): B-20 | SANTA COLOMA DE GRAMENET | Sentit Oest cap a BARCELONA | Punt km. 16.5-17.5 | 19:22\n",
      "1150095440722849792 2019-07-13 13:31:35 -0500 <transitb20> Circulació amb retencions (Retenció): B-20 | SANTA COLOMA DE GRAMENET | Sentit Oest cap a BARCELONA | Punt km. 16.5-17.5 | 19:22\n",
      "1150039073282805761 2019-07-13 09:47:36 -0500 <Gegants_Maresme> I qui fa \"doblet\" és la colla de Santa Coloma de Gramenet! Al matí a Santa Coloma de Cervelló i a la tarda a Monistrol de Montserrat.  #gegants #Maresmegeganter  https://t.co/jcGsMuotVG\n",
      "1150031408469069824 2019-07-13 09:17:08 -0500 <globurl> I love the people of Santa Coloma de Gramenet, they smile a lot . Don't you think? #catalonia\n",
      "1150003376433893376 2019-07-13 07:25:45 -0500 <blancapadros> Ahir vàrem inaugurar a Torribera el II Congrés \"Red-N\", organitzat per la FEDNU (Federación Española de Dietistas y Nutricionistas Universitarios\") amb el recolzament de la Universitat de Barcelona i l'Ajuntament de Santa Coloma de Gramenet #santacolomaciutatuniversitaria  https://t.co/0Xy3Wz54gJ\n",
      "1149997085313372160 2019-07-13 07:00:45 -0500 <Carlos99891231> Acaba de publicar una foto en Santa Coloma de Gramenet  https://t.co/T0O2Ep5TXH\n",
      "1149990987248197632 2019-07-13 06:36:31 -0500 <rickaos17> En la Festa del #NouTreball, en el acto sobre los 40 años de ayuntamientos democráticos, el PSUC de ayer y de hoy @psuc_viu @JSUC_cat en Santa Coloma de Gramenet  https://t.co/LNvcl2eb79\n",
      "1149960058568105984 2019-07-13 04:33:37 -0500 <esquerdats> 💜 Aquesta tarda tenim diada a Santa Coloma de Gramenet amb @cdesantacoloma i @CastellersdeMiR.  Ens hi posem a les 19h 🕖 a la Plaça de la Vila📍 Vens a fer pinya amb nosaltres?  #Esquerdats #FemBarriFemCastells  https://t.co/mNTLXsDoiJ\n",
      "1149941791031877633 2019-07-13 03:21:02 -0500 <Mbanolas> Sueños días en Santa Coloma de Gramenet  https://t.co/v0eYwfAh8m\n",
      "[!] No more data! Scraping will stop now.\n",
      "found 0 deleted tweets in this search.\n"
     ]
    }
   ],
   "source": [
    "# Search Tweets with full municipal name 'Santa Coloma de Gramenet'\n",
    "c = twint.Config()\n",
    "\n",
    "c.Search = 'Santa Coloma de Gramenet'\n",
    "c.Since = \"2019-07-13\"\n",
    "c.Until = \"2019-07-15\"\n",
    "c.Pandas = True\n",
    "\n",
    "\n",
    "twint.run.Search(c)"
   ]
  },
  {
   "cell_type": "code",
   "execution_count": 11,
   "metadata": {},
   "outputs": [
    {
     "name": "stdout",
     "output_type": "stream",
     "text": [
      "14\n"
     ]
    }
   ],
   "source": [
    "df = df.append(twint.storage.panda.Tweets_df)\n",
    "print(len(df))"
   ]
  },
  {
   "cell_type": "code",
   "execution_count": 12,
   "metadata": {},
   "outputs": [
    {
     "name": "stdout",
     "output_type": "stream",
     "text": [
      "1150185234882863104 2019-07-13 19:28:24 -0500 <JesusSanTe> Acabem el dia amb el sopar de benvinguda de les nenes i nens saharauis de #SantaColoma amb el #Sahara @FederacioACAPS i la festa de l'orgull #loveislove  https://t.co/wYLMvUJtwF\n",
      "1150172446152171527 2019-07-13 18:37:34 -0500 <munyecu> la prohibida ha venido a la fiesta del orgullo de santa coloma y la gente se ha puesto a hacer un castell literalmente excellence  https://t.co/9YamVefNdy\n",
      "1150168146529193985 2019-07-13 18:20:29 -0500 <JaumeNaveira> @ildelima6 @Gjisporic1 @alejandroci1986 @TiagoSrb7 @interescaldes Del Santa Coloma sí, pero del Inter no... 😜\n",
      "1150160395329527811 2019-07-13 17:49:41 -0500 <RadulescuVa> Taxi 24 H Inter y internacional Santa Coloma de Farnes.  https://t.co/hQ2oUVdzZg\n",
      "1150157572978159622 2019-07-13 17:38:28 -0500 <EnLopes> Viendo a la @la_prohibida en Santa Coloma de Gramenet #LGTBIQ+  https://t.co/j0Ng3aZWAs\n",
      "1150153873748824064 2019-07-13 17:23:46 -0500 <escribirytorear> Tercera vara al toro #Caña de #JuanLuisFraile, lidiado por #Joselillo.  #TitoSandoval al caballo.  #ceretdetoros2019 #ceret2019 #ceret #feriadeceret #cerettoujours #suertedevaras #terciodevaras #ceretdetoros #encastes #santacoloma #gracilianos #picador  https://t.co/iNxQR2FYZH\n",
      "1150151677971980289 2019-07-13 17:15:03 -0500 <PoliciaChoco> En la institución Educativa Manuel Agustín Santa Coloma efectuamos charlas de sensibilización a  estudiantes de primaria  sobre las formas de reciclaje y la responsabilidad que tenemo de proteger  y cuidar el medio ambiente #ProteccionAmbiental  https://t.co/tGhs5wB5Hf\n",
      "1150145991082987522 2019-07-13 16:52:27 -0500 <Alexis69836135> RESCATE DE UN PERRO EN SANTA COLOMA DE GRAMENET  Sobre las 16.00h. se ha detectado en la calle Mossèn Jacint Verdaguer, 70 un perro en una cornisa a punto de caer. Agentes de Polucía Local han rescatado al animal y lo han trasladado a dependencias  https://t.co/oAAqTWvyyd\n",
      "1150141762347982849 2019-07-13 16:35:39 -0500 <AbeGnosis> No hay interne en Santa Coloma\n",
      "1150140109116911616 2019-07-13 16:29:05 -0500 <VRodriguezVale> @aguasaltiplano Santa coloma de Farnes 2806, Iquique, sector península.\n",
      "1150139123497390080 2019-07-13 16:25:10 -0500 <llunallops> @avidalribera Les Termes Orion no són a Santa Coloma de Farners?\n",
      "1150138551813771264 2019-07-13 16:22:53 -0500 <com_accion> POLICIA LOCAL DE SANTA COLOMA DE GRAMENET RESCATA UN PERRO  Sobre las 16.00h. se ha detectado en la calle Mossèn Jacint Verdaguer, 70 un perro en una cornisa a punto de caer. @GUBCNCSIF @elperiodico @A3Noticias @CSIFnacional @Goas1Goas @LaVanguardia @csifgirona  https://t.co/VEZxsmMvtD\n",
      "1150137571068055552 2019-07-13 16:19:00 -0500 <VRodriguezVale> @aguasaltiplano que pasa con el agua en santa coloma de Farnes, Iquique. Cortan el agua cuando se les da la gana y sin previo aviso. Horrible.\n",
      "1150129178404163589 2019-07-13 15:45:39 -0500 <grametur> Congrés a #Santacoloma @AlimentacioUB 😜\n",
      "1150129156560216065 2019-07-13 15:45:33 -0500 <Guerrerofutsal> 🔵 Fichaje I El pívot argentino Pablo Vidal firma por Santa Coloma. Internacional absoluto, campeón de la Liga y Copa Argentina en 2018 y a sus 26 años ha marcado más de 100 goles en las  dos campañas que lleva jugando con su actual club  #sabado #futbolsala  https://t.co/t7YvfCp6jb\n",
      "1150124569069588480 2019-07-13 15:27:20 -0500 <BarceloMarta> Per fi al meu poble!!!! #socdepoble #meupoble #santacolomadefarners #laselva #Seguim en Santa Coloma de Farnés  https://t.co/R2ZWHW7chM\n",
      "1150118718288138241 2019-07-13 15:04:05 -0500 <JesusSanTe> Aquesta tarda el @cdesantacoloma han tornat a fer un 3 de 6.  Després el gran @cazagra m'ha signat el còmic sobre Durruti a #LaTienda #SantaColoma. Si no heu llegit el llibre, és molt recomanable. Amb humor aprens d'un referent.  https://t.co/dFslH6m31C\n",
      "1150118626420240384 2019-07-13 15:03:43 -0500 <rickaos17> Paella, debate, mitin y poesía... Festa del #NouTreball 2019del @psuc_viu y la @JSUC_cat edunavarro ensanropce en Santa Coloma de Gramenet  https://t.co/KhHEFCf5H5\n",
      "1150118565086998530 2019-07-13 15:03:28 -0500 <portaltaurino> Hoy hace 95 años del primer mozo muerto del encierro en el siglo XX, se llamaba Esteban Domeño, 23 años, de Sangüesa, por un toro de Santacoloma  https://t.co/w84JU3NU\n",
      "1150117691698495488 2019-07-13 15:00:00 -0500 <tribusegarra> Aguiló  Santa Coloma de Queralt Baixa Segarra #segarrejant  https://t.co/X4WB2ADEcm  https://t.co/NAoaEsFAWa\n",
      "1150110392854753280 2019-07-13 14:31:00 -0500 <La_Directa> #REPRESSIÓ | Ràtzia dels #Mossos d'Esquadra contra antifeixistes de Santa Coloma de Gramenet per oposar-se a una manifestació neonazi no comunicada  https://t.co/TEEZNSt5So Ho explica @dvdbou  https://t.co/MwvouavAfn\n",
      "1150108407619379202 2019-07-13 14:23:07 -0500 <errecepe> Choices #running #16k #nrc #santboi #viladecans #coloniaguell #santacoloma #run4fun #runfree #pegasus35  https://t.co/PGXiP8wdDe\n",
      "1150095440794144768 2019-07-13 13:31:35 -0500 <transitb10> Circulació amb retencions (Retenció): B-20 | SANTA COLOMA DE GRAMENET | Sentit Oest cap a BARCELONA | Punt km. 16.5-17.5 | 19:22\n",
      "1150095440722849792 2019-07-13 13:31:35 -0500 <transitb20> Circulació amb retencions (Retenció): B-20 | SANTA COLOMA DE GRAMENET | Sentit Oest cap a BARCELONA | Punt km. 16.5-17.5 | 19:22\n",
      "1150095269238837249 2019-07-13 13:30:54 -0500 <RockenLlamas> [FOTO-REPORTAJE] Primera tanda de fotos de nuestro paso por el @RockFestBCN con @FranchuAndCo. A destacar fotazas a los 'LEOS'.   https://t.co/vmmDjxcUqb #rockenllamas #fotoreportaje #rockfestbcn #santacoloma @LeoJimenezMetal #rock #metal #festivales #barcelona #gramenet  https://t.co/1F61vccjuw\n",
      "1150083396724514816 2019-07-13 12:43:43 -0500 <brisioxrm1> @subwaypanama @subwaypty horrible atencion en subway Santiago via Santacoloma mas de 30 min. Esperando a ser atendidos solo dos personas. La chica(Lazuey) no creo q vaya mas.\n",
      "1150079015102877699 2019-07-13 12:26:19 -0500 <arwellcyt> Els secretaris de la @JSUC_cat, @elpce i @PSUC_Viu en el míting de la festa Nou Treball en Santa Coloma ✊ ! Celebrant el 83è aniversari del PSUC  https://t.co/VJ0Odpx6tn\n",
      "1150074497900396546 2019-07-13 12:08:22 -0500 <nuriaparlon> Santa Coloma @scgramenet es consolida com a ciutat universitària amb un campus d’excel.lència @AlimentacioUB\n",
      "1150071007270584320 2019-07-13 11:54:30 -0500 <jcanosanchez> Església de Santa Coloma  #Arsèguel #AltUrgell #Pirineus #Pirineos #Pyrénées #Romànic #Románico #Romanesque  https://t.co/C3uRUn8fkT\n",
      "1150069980706344962 2019-07-13 11:50:25 -0500 <lapremsadelbaix> Santa Coloma de Cervelló viu la seva gran Diada de l’Esport #SantaColomadeCervelló  https://t.co/Rp9DsB3V8U  https://t.co/8iw78Cq58O\n",
      "1150066615352004611 2019-07-13 11:37:02 -0500 <EmilioRegueira> SANTIAGO DE VERAGUAS @superstereo995  PEGAOOO @losrabanes  #ShakeItUpMuevelo DEL EXITOSO ALBUM!! #Rockandrollentiempodecrisis  CON EL GRAN «HECTOR JAVIER SANTACOLOMA» EL CAPO DE LA RADIO!! #top20 #tamopegao…  https://t.co/M0ijilnB8v\n",
      "1150056665972183040 2019-07-13 10:57:30 -0500 <scgramenet> Avui dissabte, l'associació Santa Coloma amb el Sahara ha organitzat un sopar solidari a l'escola Pallaresa (c. Gaspar, 1-13, 21.30 h). Els fons recaptats es destinen a projectes de cooperació amb el poble sahrauí  https://t.co/YIK8sQ6PhN\n",
      "1150050797457203200 2019-07-13 10:34:11 -0500 <MirtaBenit> Entrenamiento de boccia en Barrio Nuevo  Genios los profes Geraldino y Romina Santa Coloma\n",
      "1150048152252235777 2019-07-13 10:23:41 -0500 <ANTONIBOSCH3> La vaga de Rodalies del 15 de juliol estressarà les comunicacions entre Barcelona i Santa Coloma  https://t.co/9mnbSVqDlU vía @DiariTreball\n",
      "1150045712341770240 2019-07-13 10:13:59 -0500 <DiariTreball> La vaga de Rodalies del 15 de juliol estressarà les comunicacions entre Barcelona i Santa Coloma  https://t.co/IrVHeLl4vC  https://t.co/hGa4amoDBF\n",
      "1150044980393709569 2019-07-13 10:11:04 -0500 <chandaleroSTK> Happy Pride a todos y todas en #Santako . . . . . #gaypride2019 #LoveIsLove #ApuntaMiNombreVox #santacoloma #LGBT #LGBTI #Barcelona  https://t.co/O3DzMi9Xnd\n",
      "1150040942734381057 2019-07-13 09:55:02 -0500 <_toniramos_> .@scgramenet @nuriaparlon per si és del vostre interès, el rector de l’esmentada Universitat Amazònica és un ciutadà nascut a #SantaColoma de #Gramanet que presumeix del seu origen colomenc com pocs: @txusramos\n",
      "1150039193806131200 2019-07-13 09:48:05 -0500 <argentinoros> Comenzó el Ajedrez en el @CAArgentinoOK  De la mano del profesor Martin Santa Coloma (ex Asociación Rosarina de Ajedrez) se iniciaron las clases y práctica de ajedrez en el Jose Martín Olaeta @CulturaAFA #CulturaClubArgentino  https://t.co/IQ5h3DghTf\n",
      "1150039073282805761 2019-07-13 09:47:36 -0500 <Gegants_Maresme> I qui fa \"doblet\" és la colla de Santa Coloma de Gramenet! Al matí a Santa Coloma de Cervelló i a la tarda a Monistrol de Montserrat.  #gegants #Maresmegeganter  https://t.co/jcGsMuotVG\n",
      "1150036837488058368 2019-07-13 09:38:43 -0500 <pacoparao> @harryelsocio Para la lista de pueblos preciosos, apunta: Rubí, Santa Coloma de Gramanet y Montcada i Reixac.\n",
      "1150031408469069824 2019-07-13 09:17:08 -0500 <globurl> I love the people of Santa Coloma de Gramenet, they smile a lot . Don't you think? #catalonia\n",
      "1150011262258098177 2019-07-13 07:57:05 -0500 <Mizuno771> Carrers de Olot: Vila 2019 del vehicle!!  Mulleres (🚗🚙🚗🚕🚙) Barcelona (🚙🚗🚙🚕🚗) Catòlics ( 🚖🚘🏍🚖🚘) Santa Coloma (🚗🚙🛵🏍) Sant Jordi (🚛🚚🚛🚗🚚🐖) @noesunvial @Olotuit #noesunvial @ERCOlot @CUPOlot on son els carrers verds? 🚲🛴🏃🏻‍♂️🏃🏾‍♀️🚶🏾‍♂️🚶🏿‍♀️\n",
      "1150010196791635970 2019-07-13 07:52:51 -0500 <mduarteaparicio> Como cada año, hoy en IV Festa de l'Orgull LGTBI Santa Coloma !! Organizada por @Entenem_SCLGTBI ! Pasaros esta tarde que la cartelera es de escándalo!#NoalaLGTBIFobia  #loveislove  https://t.co/ZS9PgbIGat\n",
      "1150007669090111488 2019-07-13 07:42:49 -0500 <sergi_vargas> Avui dissabte he tingut el plaer de poder conversar una estona amb la regidora @socialistes_cat de Santa Coloma de Farners, Bea Ventura. Un exemple per als/les que pensem que la política es fa pensant en allò que és millor per a la ciutadania, lluny de sectarismes. Un plaer, Bea!  https://t.co/Ul8GQeO2gM\n",
      "1150006764336820225 2019-07-13 07:39:13 -0500 <JGomez11111> @pdmFeminismos @ahorapodemos Con la manada de manresa, Santa Coloma de gramanet, azuqueca de henares no os veo mucho ímpetu en denunciarlo.Aparte,sois demagogos e hipócritas ya q estáis a favor del asesino porque apoyáis las leyes actuales donde premisa la reinsercion del criminal y en pocos años salen fuera\n",
      "1150003376433893376 2019-07-13 07:25:45 -0500 <blancapadros> Ahir vàrem inaugurar a Torribera el II Congrés \"Red-N\", organitzat per la FEDNU (Federación Española de Dietistas y Nutricionistas Universitarios\") amb el recolzament de la Universitat de Barcelona i l'Ajuntament de Santa Coloma de Gramenet #santacolomaciutatuniversitaria  https://t.co/0Xy3Wz54gJ\n",
      "1150002233049833473 2019-07-13 07:21:13 -0500 <Jorge12412613> @TMBinfo Pues no sé qué decirte, mejor transporte privado, xq si tengo que ir desde santa Coloma tengo que salir a las 4:00 am\n",
      "1149998149047635969 2019-07-13 07:04:59 -0500 <miqueliceta> Hem tret uns molt bons resultats a les eleccions generals, municipals i  europees. Tenim 1.315 regidors i regidores socialistes alguns d'ells en terrenys complicats. Veus com les de la Bea Ventura, de Santa Coloma de Farners, són imparables.  #EscolaEstiuPSC  https://t.co/FiscBEhrZB\n",
      "1149997085313372160 2019-07-13 07:00:45 -0500 <Carlos99891231> Acaba de publicar una foto en Santa Coloma de Gramenet  https://t.co/T0O2Ep5TXH\n",
      "1149995965715288064 2019-07-13 06:56:18 -0500 <scgramenet> Diada castellera de l'Avi Porta, organitzada pels Castellers de Santa Coloma @cdesantacoloma a la plaça de la Vila, avui dissabte 13 a les 19:00 hores, amb els Castellers de Montcada i Reixac i la Colla Castellera Esquerra de l'Eixample  https://t.co/ARkos1xhnO\n",
      "1149994934356914176 2019-07-13 06:52:12 -0500 <socialistes_cat> 📺@miqueliceta:\"Hem tret uns molt bons resultats a les eleccions generals, municipals i  europees. Tenim 1.315 regidors i regidores socialistes alguns d'ells en terrenys complicats. Veus com les de la Bea Ventura, de Santa Coloma de Farners, són imparables\".  #EscolaEstiuPSC  https://t.co/LR70HMpfop\n",
      "1149994569158799360 2019-07-13 06:50:45 -0500 <sergi_vargas> Aquest fil de Twitter té la sort de recollir l’espectacular ovació que ha rebut, al Casal Joan Reventós, la regidora de @socialistes_cat a Santa Coloma de Farners, Bea Ventura, víctima del sectarisme i la intolerància del president Torra i de forces com ERC i CUP. Bravo, Bea!  https://t.co/SEd4DUD8xM\n",
      "1149990987248197632 2019-07-13 06:36:31 -0500 <rickaos17> En la Festa del #NouTreball, en el acto sobre los 40 años de ayuntamientos democráticos, el PSUC de ayer y de hoy @psuc_viu @JSUC_cat en Santa Coloma de Gramenet  https://t.co/LNvcl2eb79\n",
      "1149983992982245376 2019-07-13 06:08:44 -0500 <dijeipampool> AVUI la barretina se’n va cap a @mas_fonollar de Santa Coloma en motiu de la IV FESTA DE L’ORGULL #LGTBI @Entenem_SCLGTBI! M’hi trobareu punxant de 18h a 20h! #LoveisLove  https://t.co/Z6KOG75VJ9\n",
      "1149982416670527488 2019-07-13 06:02:28 -0500 <soynadvagu> No hace ni 4 horas de que he salido de Santa Coloma y ahora estoy volviendo\n",
      "1149980728450527232 2019-07-13 05:55:45 -0500 <tornemhi_BDN> ¿A qué no sabes donde vamos hoy? A l'orgull en el Mas Fonollar de Santa Coloma. Santako rules 😎 @Entenem_SCLGTBI  https://t.co/Kh8zC5EO62\n",
      "1149968842946424833 2019-07-13 05:08:32 -0500 <pepinmen> L'Industrias Santa Coloma incorpora l'argentí Pablo Vidal  https://t.co/DDQbCPlvQl via @esport3\n",
      "1149966803919081473 2019-07-13 05:00:26 -0500 <femturisme> Si tens ganes de conèixer el comerç de proximitat local i la gent de SantaColoma de Queralt, has de venir sí o sí a Griu, el festival! #entretotsfemturisme  https://t.co/62n5ZmisOc\n",
      "1149966700093292547 2019-07-13 05:00:01 -0500 <sunholidayhome1> Apartment Santa Coloma de Farners €132000 -  https://t.co/e4dETvE8lG #holidayhome #villa #property  https://t.co/JnD4qIYi8O\n",
      "1149965202831679493 2019-07-13 04:54:04 -0500 <_LCP9> Tot preparat al @Isart_G !! Bona temperatura, birres fresques i bona música! Només hi faltes tu! Hi serem fins les 10 de la nit a Santa Coloma de Cervelló @ Societet Recreativa de Santa Coloma de Cervelló  https://t.co/Vgcw6LRiYN\n",
      "1149960058568105984 2019-07-13 04:33:37 -0500 <esquerdats> 💜 Aquesta tarda tenim diada a Santa Coloma de Gramenet amb @cdesantacoloma i @CastellersdeMiR.  Ens hi posem a les 19h 🕖 a la Plaça de la Vila📍 Vens a fer pinya amb nosaltres?  #Esquerdats #FemBarriFemCastells  https://t.co/mNTLXsDoiJ\n",
      "1149958086561587201 2019-07-13 04:25:47 -0500 <DJOCS> Acabem una setmana intensa d'activitats 😋, #bombolles al casal del barri Verdum,  #festaescuma casal Pau Romeva de Barcelona i #pintacares i #globusflèxia a la llar d'infants de Santa Coloma de Farners 👍. #animacióinfantil #activitatsinfantils  https://t.co/14K32rMpDt\n",
      "1149954364284391424 2019-07-13 04:11:00 -0500 <ruralcat> 👨🏻‍🎓Curs de Formació Escoles Agràries \"Multiplicació de colònies. Cria de reines (2a edició)\".  📅 26 i 27/09 📍 EA de Santa Coloma de Farners ℹ️  https://t.co/Wb8HBIh2FE  https://t.co/G77uou2CKL\n",
      "1149950796349485056 2019-07-13 03:56:49 -0500 <ecpsantacoloma> Quin dissabte tenim a #santacoloma!  ➡ La Festa de l'#orgull d'@Entenem_SCLGTBI al Mas Fonollar ➡ El sopar de benvinguda als nens i nenes saharauis ➡ La presentació del llibre de @cazagra sobre Durruti ➡ I la Festa del @PSUC_Viu  https://t.co/x2eMOqSFPM\n",
      "1149947774152204288 2019-07-13 03:44:49 -0500 <DiariTreball> La vaga de Rodalies del 15 de juliol estressarà les comunicacions entre Barcelona i Santa Coloma  https://t.co/IrVHeLl4vC  https://t.co/JtCyPgAm2a\n",
      "1149946478800097280 2019-07-13 03:39:40 -0500 <RAMON59020261> @deltahorn49 Que ets una miqueta xenòfob i que com en Nadal és de Balears i no català doncs l'odies malgrat que mataries per tenir un tenista com ell que fos indepe de Santa Coloma de Farners???????????????\n",
      "1149946456163463168 2019-07-13 03:39:34 -0500 <Prometheus_0_0> @cloro_po Crematorios en Montjuic y campos de trabajo en Santa Coloma de Farnés para hacer ratafía. No veo otra solución.\n",
      "1149941791031877633 2019-07-13 03:21:02 -0500 <Mbanolas> Sueños días en Santa Coloma de Gramenet  https://t.co/v0eYwfAh8m\n",
      "1149936407068041216 2019-07-13 02:59:38 -0500 <Mobilitat_AMB> 🚌⚠  13/07 - SANTA COLOMA DE CERVELLÓ: L76 Tall provisional a la plaça Constitució  https://t.co/EVI26Ny48T  https://t.co/giesGsq6GC\n",
      "1149932735290646528 2019-07-13 02:45:03 -0500 <MercatSetmanal> 13/07: avui és el Mercat Setmanal dels Dissabtes a Santa Coloma de Farners  https://t.co/jKrccufhm7  @SCFarners #mercat #mercatsetmanal  https://t.co/dy164eACYP\n",
      "1149922553869361152 2019-07-13 02:04:36 -0500 <trenquemelcuc> A marina estan en calor ens diu l'Antoni Gazquez, setmana ben amunt les temperatures amb 36 de màxima, al Fabra de 32 i a Malgrat de 31, i mínimes de 13 graus. Pluges de 8 litres el cap de setmana passat, i l'atres llocs a Malgrat 17'5 i 12 a Santa Coloma 28 a Fornells.\n"
     ]
    },
    {
     "name": "stdout",
     "output_type": "stream",
     "text": [
      "[!] No more data! Scraping will stop now.\n",
      "found 0 deleted tweets in this search.\n"
     ]
    }
   ],
   "source": [
    "# Search Tweets with short municipal name 'Santa Coloma'\n",
    "c = twint.Config()\n",
    "\n",
    "c.Search = 'Santa Coloma'\n",
    "c.Since = \"2019-07-13\"\n",
    "c.Until = \"2019-07-15\"\n",
    "c.Pandas = True\n",
    "\n",
    "twint.run.Search(c)"
   ]
  },
  {
   "cell_type": "code",
   "execution_count": 13,
   "metadata": {
    "scrolled": true
   },
   "outputs": [
    {
     "data": {
      "text/plain": [
       "71"
      ]
     },
     "execution_count": 13,
     "metadata": {},
     "output_type": "execute_result"
    }
   ],
   "source": [
    "df = df.append(twint.storage.panda.Tweets_df)\n",
    "df = df.drop_duplicates(subset=['id'], ignore_index=True)\n",
    "len(df)"
   ]
  },
  {
   "cell_type": "code",
   "execution_count": 14,
   "metadata": {},
   "outputs": [
    {
     "name": "stdout",
     "output_type": "stream",
     "text": [
      "1150192144285622272 2019-07-13 19:55:51 -0500 <AhaShkeHrtbrk> @dvd_rouse_7\n",
      "1150191521431511040 2019-07-13 19:53:22 -0500 <AhaShkeHrtbrk> The greatest thing you'll ever learn is just to love and be loved in return.\n",
      "1150191240127774720 2019-07-13 19:52:15 -0500 <rickaos17> Mis padres cantando La Internacional con el puño en alto en la Festa del #NouTreball. Llevo mi orgullo tatuado a fuego en mis entrañas. Lo que soy, siento y conozco se lo debo a ellos. Los…  https://t.co/J3r0n3LG69\n",
      "1150185234882863104 2019-07-13 19:28:24 -0500 <JesusSanTe> Acabem el dia amb el sopar de benvinguda de les nenes i nens saharauis de #SantaColoma amb el #Sahara @FederacioACAPS i la festa de l'orgull #loveislove  https://t.co/wYLMvUJtwF\n",
      "1150181329549647872 2019-07-13 19:12:52 -0500 <jaitoky> @Castololol No creo que se quiera quedar ni que quieran que se quede.\n",
      "1150180255178661888 2019-07-13 19:08:36 -0500 <oriol1986> @lluis_acosta Si si. Perdona. Però és que no conec massa el grup i no t'entenia 😜\n",
      "1150179831113560064 2019-07-13 19:06:55 -0500 <jaitoky> Que es de Van de Beek?\n",
      "1150179529194954752 2019-07-13 19:05:43 -0500 <oriol1986> @lluis_acosta ???\n",
      "1150178646256160768 2019-07-13 19:02:13 -0500 <eresenormeAM> @AbrahamMateo te quiero 🥰❤️\n",
      "1150178491574476800 2019-07-13 19:01:36 -0500 <eresenormeAM> Precioso, romántico, chico simpático... @AbrahamMateo #LaNoche, 😬🎶\n",
      "1150177902622838785 2019-07-13 18:59:15 -0500 <eresenormeAM> Quién me diría en 2013 que hasta ahora iba a seguir a tu lado, sinceramente es algo que ni yo pensaba... Pero me alegro de que así sea @AbrahamMateo, ❤️✨\n",
      "1150177415970336775 2019-07-13 18:57:19 -0500 <elpeysa>  https://t.co/bIteagvPwN\n",
      "1150176725021667328 2019-07-13 18:54:35 -0500 <eresenormeAM> Segundo día que lo intento.  @AbrahamMateo me harías más feliz si lo ves. 🥺❤️\n",
      "1150174195755737088 2019-07-13 18:44:32 -0500 <Avatarceleborn1> @ninuandres Sabado, sabadete no te flipes, que hoy tampoco metes.\n",
      "1150173443939282945 2019-07-13 18:41:32 -0500 <Avatarceleborn1> @MireiaPujol Hem de okupar el parlament\n",
      "1150171496620462080 2019-07-13 18:33:48 -0500 <eresenormeAM> Que alegría verte disfrutar con amigos ❤️❤️❤️✨ @AbrahamMateo\n",
      "1150161513195495424 2019-07-13 17:54:08 -0500 <Hara_Amoros> @xucxuc Pues a mí no me hacías fotos así eh 😭\n",
      "1150140606527787008 2019-07-13 16:31:03 -0500 <venioti> Llevo dos días con dolor de cuello yavsleporfavor\n",
      "1150130272630763521 2019-07-13 15:50:00 -0500 <rickaos17> Si una intervención me ha marcado hoy, en la Festa del #NouTreball, ha sido la de la Maruja, histórica dirigente vecinal de Barcelona y militante del @psuc_viu, toda una vida de lucha y…  https://t.co/LVeZG2kria\n",
      "1150129178404163589 2019-07-13 15:45:39 -0500 <grametur> Congrés a #Santacoloma @AlimentacioUB 😜\n",
      "1150118718288138241 2019-07-13 15:04:05 -0500 <JesusSanTe> Aquesta tarda el @cdesantacoloma han tornat a fer un 3 de 6.  Després el gran @cazagra m'ha signat el còmic sobre Durruti a #LaTienda #SantaColoma. Si no heu llegit el llibre, és molt recomanable. Amb humor aprens d'un referent.  https://t.co/dFslH6m31C\n",
      "1150118626420240384 2019-07-13 15:03:43 -0500 <rickaos17> Paella, debate, mitin y poesía... Festa del #NouTreball 2019del @psuc_viu y la @JSUC_cat edunavarro ensanropce en Santa Coloma de Gramenet  https://t.co/KhHEFCf5H5\n",
      "1150117264588529664 2019-07-13 14:58:18 -0500 <venioti> Mood comprando cena  https://t.co/LOoVxLz9io\n",
      "1150100761323462659 2019-07-13 13:52:43 -0500 <JosepTordera> @NANDO98676353 @1714Talamanca @BerdaderaH Pues no, Nando. Los trenes de Rodalies no son ‘prestados’ por Renfe a la Generalitat. Existe un contrato por el cual Renfe es la compañía que opera los servicios de Rodalies. (Nuevo Contrato en negociación) La infraestructura (muy mejorable)depende de Adif\n",
      "1150085313500520449 2019-07-13 12:51:20 -0500 <franescalzo83> Habré visto este vídeo unas 25 veces en los últimos meses... y no hay ni una sola vez que no me emocione... 💚💚💚\n",
      "1150084130962661376 2019-07-13 12:46:39 -0500 <JoanCalzado> #SantaColomaLliureLGTBIfòbia @ Crj Mas Fonollar  https://t.co/m1BwaGCouI\n",
      "1150080857249632257 2019-07-13 12:33:38 -0500 <Oroz1> Un placer compartir opiniones sobre ciclismo con @pedrodelgadoweb , Carlos y con todos vosotros en #TourTVE Sin duda que hemos disfrutado de la experiencia, Además nos han regalado una gran etapa en @LeTour  https://t.co/zKYAZxT3kX\n",
      "1150079513612750848 2019-07-13 12:28:18 -0500 <JSUC_cat> Un any més, presents a #LaFesta2019 de Nou Treball!☭ Treballant cada dia per construir el Partit de la classe obrera catalana✊🏽  #PSUC #PSUC  https://t.co/O3O5DPZKpa\n",
      "1150079015102877699 2019-07-13 12:26:19 -0500 <arwellcyt> Els secretaris de la @JSUC_cat, @elpce i @PSUC_Viu en el míting de la festa Nou Treball en Santa Coloma ✊ ! Celebrant el 83è aniversari del PSUC  https://t.co/VJ0Odpx6tn\n",
      "1150077618433208325 2019-07-13 12:20:46 -0500 <ladymandona> @badcrc tampoco es para comer (dicen que es para “decoraciones que no se comen”). Tengo un potecito de esta en casa, si te interesa luego miro si se disuelve en líquido 😅\n",
      "1150064866721509377 2019-07-13 11:30:06 -0500 <torisparks> Muy contenta de ver la foto de nuestra portada del disco Wait No More en la exhibición de fotos en el Can Sisteré dentro del proyecto Santako School of Rock. Felicidades a nuestro amigo Alexey, y los demás grandes…  https://t.co/Acvv4OaUyw\n",
      "1150063524091179008 2019-07-13 11:24:45 -0500 <torisparks> #Repost @czanon ... Estos momentos, esa gente. 🥰 Que gusto celebrar el éxito del School of Rock con grandes amigos y grandes profesionales. (Y con los buenos vinitos de sagradestannines of course. 🍷😇) Felicidades…  https://t.co/aIIEXTcb82\n",
      "1150053458801807360 2019-07-13 10:44:46 -0500 <phoebe_ctid> yaya, yaya toure💙  https://t.co/M95DcxO61Z\n",
      "1150053393194463232 2019-07-13 10:44:30 -0500 <pacocorderoarco> Esta es la mejor foto, parece que les ha gustado, ¡genial!! #elcantodelvi #winelowers #winelove #wine #foodies #elcantodelvi #grameneturisme #santacolomagastromica en El Cantó del vi  https://t.co/p4uQSmEqwm\n",
      "1150045315447296000 2019-07-13 10:12:24 -0500 <rorii_06> La qualy ha estado bien. La cosa es que la carrera mañana va a ser un coñazo de cuidao.  Ya os digo mi porra  1. Hamilton 2. Bottas 3. Verstappen\n",
      "1150042092598681601 2019-07-13 09:59:36 -0500 <Rak_Alma> Tiempo de piscina 🏖🏊‍♀🍻 en Piscina de Can Zam  https://t.co/exkFMAos5b\n",
      "1150033562923671558 2019-07-13 09:25:42 -0500 <pacocorderoarco> #elcantodelvi en El Cantó del vi  https://t.co/MV6CEv34IT\n",
      "1150033392290975746 2019-07-13 09:25:01 -0500 <pacocorderoarco> #elcantodelvi en El Cantó del vi  https://t.co/orfHWXDlKb\n",
      "1150029463553372166 2019-07-13 09:09:25 -0500 <SacralB> The one and Only Mr @realkingdiamond live in rockfestbcn for @rafa_basa #alvarojosephotography #music #musicphotographer #musicphoto #musicphotography #metal #metalband #españa #denmark🇩🇰 #heavymetal #liveconcert…  https://t.co/olS2N5WtIv\n",
      "1150017200364904449 2019-07-13 08:20:41 -0500 <PD_Gramenet> @Berlustinho Ja era hora. Això d'anar perseguint els teus canvis de nom era esgotador.\n",
      "1150005596990713857 2019-07-13 07:34:35 -0500 <KuroYerim> 🌙  https://t.co/dIIYepGLeL\n",
      "1150000467822469121 2019-07-13 07:14:12 -0500 <venioti> Can mamamoo do world tour at once  https://t.co/ljAwR06r68\n",
      "1149990987248197632 2019-07-13 06:36:31 -0500 <rickaos17> En la Festa del #NouTreball, en el acto sobre los 40 años de ayuntamientos democráticos, el PSUC de ayer y de hoy @psuc_viu @JSUC_cat en Santa Coloma de Gramenet  https://t.co/LNvcl2eb79\n",
      "1149980728450527232 2019-07-13 05:55:45 -0500 <tornemhi_BDN> ¿A qué no sabes donde vamos hoy? A l'orgull en el Mas Fonollar de Santa Coloma. Santako rules 😎 @Entenem_SCLGTBI  https://t.co/Kh8zC5EO62\n",
      "1149980180540211200 2019-07-13 05:53:35 -0500 <InformacionDGT> #RETENCIÓN nivel ROJO en #B10 (pk 0 al 3 norte) BARCELONA #DGTBarcelona #DGT  https://t.co/3uP0MBNNzc\n",
      "1149978711720169472 2019-07-13 05:47:45 -0500 <AdriCru34150257> @implictpilots Avicii\n",
      "1149968112885936128 2019-07-13 05:05:38 -0500 <venioti> Mis vecinos: la puerta hay que cerrarla con llave para que no entre gente que no es del edificio.  Also mis vecinos: abren la puerta a to kiski\n",
      "1149960237824299008 2019-07-13 04:34:20 -0500 <pacocorderoarco> Vamos a prepararlo todo para recibir este medio día a nuestros comensales #santacolomagastromica #grameneturisme #winelowers #winelove #wine #foodies #elcantodelvi en El Cantó del vi  https://t.co/X6Jhraut7Z\n",
      "1149960058568105984 2019-07-13 04:33:37 -0500 <esquerdats> 💜 Aquesta tarda tenim diada a Santa Coloma de Gramenet amb @cdesantacoloma i @CastellersdeMiR.  Ens hi posem a les 19h 🕖 a la Plaça de la Vila📍 Vens a fer pinya amb nosaltres?  #Esquerdats #FemBarriFemCastells  https://t.co/mNTLXsDoiJ\n",
      "1149950762941734912 2019-07-13 03:56:41 -0500 <NutriClinica_Gi> Ayer la #fednu (Federación de Estudiantes de Nutrición Humana y Dietética) organizó el II Congreso Nacional de Estudiantes del Grado y Postgrado de Nutrición Humana y Dietética de España.  . . En la mesa redonda…  https://t.co/NeQTwQJ4J6\n",
      "1149941791031877633 2019-07-13 03:21:02 -0500 <Mbanolas> Sueños días en Santa Coloma de Gramenet  https://t.co/v0eYwfAh8m\n",
      "1149934622907731969 2019-07-13 02:52:33 -0500 <Tillo15530578> Hola @facua , este cargo que hace esta gente es legal o no?\n",
      "1149929698559954944 2019-07-13 02:32:59 -0500 <carlosrosascamp> @Videofanramon @alex_riveiro @bocha_rocha No estoy de acuerdo. Yo dudo y no creo que la tierra sea plana. Un saludo\n",
      "1149927114696744960 2019-07-13 02:22:43 -0500 <myro6ta> Y en dos días... Resultados ❤️ - #ColorZoom2019  #anayrosapelu #colormania #colorzoom2019 #goldwell #goldwellespaña #goldwellcolor #goldwellspain #megustamitrabajo #ilovegoldwell #iloveelumen #iamelumen #iamgoldwell…  https://t.co/9MMbvybNPJ\n",
      "1149910907423744000 2019-07-13 01:18:19 -0500 <LapsusRebersus> The throne of rock🤘🎸🔥  #Rockfest #bcn #gameofthrones #rock #heavymetal #night #metal en Barcelona Rockfest  https://t.co/F85RQKfaoh\n",
      "1149884052033462272 2019-07-12 23:31:36 -0500 <FranzFakler> @ricbartm @CBinvaders @ramacabici @30diesAMBiciBCN Solamente ayuda en el caso de heridas leves.  Solamente el casco integral de los motoristas ofrece más protección\n",
      "1149875768115290113 2019-07-12 22:58:41 -0500 <eugeni_barquero> @lpajin  Bon dia Leire . Com aconseguir el pin dels ODS...? Gracias per lA teva confe en l'Escola  https://t.co/Ig9VSCkePL\n",
      "1149875093683789824 2019-07-12 22:56:00 -0500 <eugeni_barquero> @cazagra Ei Carlos...un abrazo no podré asistir a la presentació del vostre treball..però t 'envio una forta i sincera abraçada..\n",
      "1149861103071125505 2019-07-12 22:00:25 -0500 <KuroYerim> Llegar a las 4 y escuchar la alarma de tu hermano lmao\n",
      "1149847880808747014 2019-07-12 21:07:52 -0500 <Avatarceleborn1> @Comunase Fill de puta!!!!\n",
      "1149847432081158144 2019-07-12 21:06:05 -0500 <Avatarceleborn1> @MireiaPujol El que som alergics ens fotem!!!!\n"
     ]
    },
    {
     "name": "stdout",
     "output_type": "stream",
     "text": [
      "[!] No more data! Scraping will stop now.\n",
      "found 0 deleted tweets in this search.\n"
     ]
    }
   ],
   "source": [
    "# Search Tweets with location near\n",
    "c = twint.Config()\n",
    "\n",
    "c.Geo = \"41.454, 2.211, 1.5km\"\n",
    "c.Since = \"2019-07-13\"\n",
    "c.Until = \"2019-07-15\"\n",
    "c.Pandas = True\n",
    "\n",
    "twint.run.Search(c)"
   ]
  },
  {
   "cell_type": "code",
   "execution_count": 15,
   "metadata": {},
   "outputs": [
    {
     "name": "stdout",
     "output_type": "stream",
     "text": [
      "123\n"
     ]
    }
   ],
   "source": [
    "df = df.append(twint.storage.panda.Tweets_df)\n",
    "df = df.drop_duplicates(subset=['id'], ignore_index=True)\n",
    "print(len(df))"
   ]
  },
  {
   "cell_type": "code",
   "execution_count": 16,
   "metadata": {},
   "outputs": [
    {
     "data": {
      "text/html": [
       "<div>\n",
       "<style scoped>\n",
       "    .dataframe tbody tr th:only-of-type {\n",
       "        vertical-align: middle;\n",
       "    }\n",
       "\n",
       "    .dataframe tbody tr th {\n",
       "        vertical-align: top;\n",
       "    }\n",
       "\n",
       "    .dataframe thead th {\n",
       "        text-align: right;\n",
       "    }\n",
       "</style>\n",
       "<table border=\"1\" class=\"dataframe\">\n",
       "  <thead>\n",
       "    <tr style=\"text-align: right;\">\n",
       "      <th></th>\n",
       "      <th>language</th>\n",
       "      <th>place</th>\n",
       "      <th>tweet</th>\n",
       "      <th>date</th>\n",
       "      <th>geo</th>\n",
       "      <th>search</th>\n",
       "      <th>near</th>\n",
       "    </tr>\n",
       "  </thead>\n",
       "  <tbody>\n",
       "    <tr>\n",
       "      <th>0</th>\n",
       "      <td>es</td>\n",
       "      <td></td>\n",
       "      <td>Viendo a la @la_prohibida en Santa Coloma de G...</td>\n",
       "      <td>2019-07-13 17:38:28</td>\n",
       "      <td></td>\n",
       "      <td>Santa Coloma de Gramenet</td>\n",
       "      <td></td>\n",
       "    </tr>\n",
       "    <tr>\n",
       "      <th>1</th>\n",
       "      <td>es</td>\n",
       "      <td></td>\n",
       "      <td>RESCATE DE UN PERRO EN SANTA COLOMA DE GRAMENE...</td>\n",
       "      <td>2019-07-13 16:52:27</td>\n",
       "      <td></td>\n",
       "      <td>Santa Coloma de Gramenet</td>\n",
       "      <td></td>\n",
       "    </tr>\n",
       "    <tr>\n",
       "      <th>2</th>\n",
       "      <td>ca</td>\n",
       "      <td></td>\n",
       "      <td>POLICIA LOCAL DE SANTA COLOMA DE GRAMENET RESC...</td>\n",
       "      <td>2019-07-13 16:22:53</td>\n",
       "      <td></td>\n",
       "      <td>Santa Coloma de Gramenet</td>\n",
       "      <td></td>\n",
       "    </tr>\n",
       "    <tr>\n",
       "      <th>3</th>\n",
       "      <td>es</td>\n",
       "      <td>{'type': 'Point', 'coordinates': [41.45, 2.216...</td>\n",
       "      <td>Paella, debate, mitin y poesía... Festa del #N...</td>\n",
       "      <td>2019-07-13 15:03:43</td>\n",
       "      <td></td>\n",
       "      <td>Santa Coloma de Gramenet</td>\n",
       "      <td></td>\n",
       "    </tr>\n",
       "    <tr>\n",
       "      <th>4</th>\n",
       "      <td>ca</td>\n",
       "      <td></td>\n",
       "      <td>#REPRESSIÓ | Ràtzia dels #Mossos d'Esquadra co...</td>\n",
       "      <td>2019-07-13 14:31:00</td>\n",
       "      <td></td>\n",
       "      <td>Santa Coloma de Gramenet</td>\n",
       "      <td></td>\n",
       "    </tr>\n",
       "    <tr>\n",
       "      <th>...</th>\n",
       "      <td>...</td>\n",
       "      <td>...</td>\n",
       "      <td>...</td>\n",
       "      <td>...</td>\n",
       "      <td>...</td>\n",
       "      <td>...</td>\n",
       "      <td>...</td>\n",
       "    </tr>\n",
       "    <tr>\n",
       "      <th>118</th>\n",
       "      <td>ca</td>\n",
       "      <td></td>\n",
       "      <td>@lpajin  Bon dia Leire . Com aconseguir el pin...</td>\n",
       "      <td>2019-07-12 22:58:41</td>\n",
       "      <td>41.454,2.211,1.5km</td>\n",
       "      <td>None</td>\n",
       "      <td></td>\n",
       "    </tr>\n",
       "    <tr>\n",
       "      <th>119</th>\n",
       "      <td>ca</td>\n",
       "      <td></td>\n",
       "      <td>@cazagra Ei Carlos...un abrazo no podré asisti...</td>\n",
       "      <td>2019-07-12 22:56:00</td>\n",
       "      <td>41.454,2.211,1.5km</td>\n",
       "      <td>None</td>\n",
       "      <td></td>\n",
       "    </tr>\n",
       "    <tr>\n",
       "      <th>120</th>\n",
       "      <td>es</td>\n",
       "      <td></td>\n",
       "      <td>Llegar a las 4 y escuchar la alarma de tu herm...</td>\n",
       "      <td>2019-07-12 22:00:25</td>\n",
       "      <td>41.454,2.211,1.5km</td>\n",
       "      <td>None</td>\n",
       "      <td></td>\n",
       "    </tr>\n",
       "    <tr>\n",
       "      <th>121</th>\n",
       "      <td>pt</td>\n",
       "      <td></td>\n",
       "      <td>@Comunase Fill de puta!!!!</td>\n",
       "      <td>2019-07-12 21:07:52</td>\n",
       "      <td>41.454,2.211,1.5km</td>\n",
       "      <td>None</td>\n",
       "      <td></td>\n",
       "    </tr>\n",
       "    <tr>\n",
       "      <th>122</th>\n",
       "      <td>ca</td>\n",
       "      <td></td>\n",
       "      <td>@MireiaPujol El que som alergics ens fotem!!!!</td>\n",
       "      <td>2019-07-12 21:06:05</td>\n",
       "      <td>41.454,2.211,1.5km</td>\n",
       "      <td>None</td>\n",
       "      <td></td>\n",
       "    </tr>\n",
       "  </tbody>\n",
       "</table>\n",
       "<p>123 rows × 7 columns</p>\n",
       "</div>"
      ],
      "text/plain": [
       "    language                                              place  \\\n",
       "0         es                                                      \n",
       "1         es                                                      \n",
       "2         ca                                                      \n",
       "3         es  {'type': 'Point', 'coordinates': [41.45, 2.216...   \n",
       "4         ca                                                      \n",
       "..       ...                                                ...   \n",
       "118       ca                                                      \n",
       "119       ca                                                      \n",
       "120       es                                                      \n",
       "121       pt                                                      \n",
       "122       ca                                                      \n",
       "\n",
       "                                                 tweet                 date  \\\n",
       "0    Viendo a la @la_prohibida en Santa Coloma de G...  2019-07-13 17:38:28   \n",
       "1    RESCATE DE UN PERRO EN SANTA COLOMA DE GRAMENE...  2019-07-13 16:52:27   \n",
       "2    POLICIA LOCAL DE SANTA COLOMA DE GRAMENET RESC...  2019-07-13 16:22:53   \n",
       "3    Paella, debate, mitin y poesía... Festa del #N...  2019-07-13 15:03:43   \n",
       "4    #REPRESSIÓ | Ràtzia dels #Mossos d'Esquadra co...  2019-07-13 14:31:00   \n",
       "..                                                 ...                  ...   \n",
       "118  @lpajin  Bon dia Leire . Com aconseguir el pin...  2019-07-12 22:58:41   \n",
       "119  @cazagra Ei Carlos...un abrazo no podré asisti...  2019-07-12 22:56:00   \n",
       "120  Llegar a las 4 y escuchar la alarma de tu herm...  2019-07-12 22:00:25   \n",
       "121                         @Comunase Fill de puta!!!!  2019-07-12 21:07:52   \n",
       "122     @MireiaPujol El que som alergics ens fotem!!!!  2019-07-12 21:06:05   \n",
       "\n",
       "                    geo                    search near  \n",
       "0                        Santa Coloma de Gramenet       \n",
       "1                        Santa Coloma de Gramenet       \n",
       "2                        Santa Coloma de Gramenet       \n",
       "3                        Santa Coloma de Gramenet       \n",
       "4                        Santa Coloma de Gramenet       \n",
       "..                  ...                       ...  ...  \n",
       "118  41.454,2.211,1.5km                      None       \n",
       "119  41.454,2.211,1.5km                      None       \n",
       "120  41.454,2.211,1.5km                      None       \n",
       "121  41.454,2.211,1.5km                      None       \n",
       "122  41.454,2.211,1.5km                      None       \n",
       "\n",
       "[123 rows x 7 columns]"
      ]
     },
     "execution_count": 16,
     "metadata": {},
     "output_type": "execute_result"
    }
   ],
   "source": [
    "df[[\"language\", \"place\", \"tweet\", \"date\", \"geo\", \"search\", \"near\"]]"
   ]
  },
  {
   "cell_type": "code",
   "execution_count": 17,
   "metadata": {},
   "outputs": [],
   "source": [
    "from collections import Counter"
   ]
  },
  {
   "cell_type": "code",
   "execution_count": 37,
   "metadata": {},
   "outputs": [
    {
     "data": {
      "text/plain": [
       "Counter({'es': 57,\n",
       "         'ca': 50,\n",
       "         'en': 6,\n",
       "         'und': 4,\n",
       "         'fr': 1,\n",
       "         'pt': 2,\n",
       "         'in': 2,\n",
       "         'ro': 1})"
      ]
     },
     "execution_count": 37,
     "metadata": {},
     "output_type": "execute_result"
    }
   ],
   "source": [
    "Counter(df[\"language\"])"
   ]
  },
  {
   "cell_type": "code",
   "execution_count": 78,
   "metadata": {},
   "outputs": [],
   "source": [
    "from langdetect import detect\n",
    "from langdetect import DetectorFactory\n",
    "DetectorFactory.seed = 0"
   ]
  },
  {
   "cell_type": "code",
   "execution_count": 79,
   "metadata": {},
   "outputs": [],
   "source": [
    "lis = [(detect(txt), lan, detect(txt) == lan) for lan, txt in zip(df['language'], df['tweet']) if lan != \"und\"]"
   ]
  },
  {
   "cell_type": "code",
   "execution_count": 81,
   "metadata": {},
   "outputs": [
    {
     "data": {
      "text/plain": [
       "Counter({('es', 'es', True): 54,\n",
       "         ('es', 'ca', False): 4,\n",
       "         ('ca', 'ca', True): 45,\n",
       "         ('en', 'en', True): 5,\n",
       "         ('ca', 'en', False): 1,\n",
       "         ('en', 'es', False): 1,\n",
       "         ('en', 'ca', False): 1,\n",
       "         ('fr', 'fr', True): 1,\n",
       "         ('pt', 'es', False): 2,\n",
       "         ('pt', 'pt', True): 1,\n",
       "         ('ca', 'in', False): 1,\n",
       "         ('sw', 'in', False): 1,\n",
       "         ('ro', 'ro', True): 1,\n",
       "         ('it', 'pt', False): 1})"
      ]
     },
     "execution_count": 81,
     "metadata": {},
     "output_type": "execute_result"
    }
   ],
   "source": [
    "Counter(lis)"
   ]
  },
  {
   "cell_type": "code",
   "execution_count": 74,
   "metadata": {},
   "outputs": [
    {
     "data": {
      "text/plain": [
       "id                                               1150168146529193985\n",
       "conversation_id                                  1147850432498327552\n",
       "created_at                                               1.56306e+12\n",
       "date                                             2019-07-13 18:20:29\n",
       "timezone                                                       -0500\n",
       "place                                                               \n",
       "tweet              @ildelima6 @Gjisporic1 @alejandroci1986 @Tiago...\n",
       "language                                                          es\n",
       "hashtags                                                          []\n",
       "cashtags                                                          []\n",
       "user_id                                                    182091279\n",
       "user_id_str                                                182091279\n",
       "username                                                JaumeNaveira\n",
       "name                                                   Jaume Naveira\n",
       "day                                                                6\n",
       "hour                                                              18\n",
       "link               https://twitter.com/JaumeNaveira/status/115016...\n",
       "urls                                                              []\n",
       "photos                                                            []\n",
       "video                                                              0\n",
       "thumbnail                                                           \n",
       "retweet                                                        False\n",
       "nlikes                                                             1\n",
       "nreplies                                                           2\n",
       "nretweets                                                          0\n",
       "quote_url                                                           \n",
       "search                                                  Santa Coloma\n",
       "near                                                                \n",
       "geo                                                                 \n",
       "source                                                              \n",
       "user_rt_id                                                          \n",
       "user_rt                                                             \n",
       "retweet_id                                                          \n",
       "reply_to           [{'screen_name': 'ildelima6', 'name': 'Ildefon...\n",
       "retweet_date                                                        \n",
       "translate                                                           \n",
       "trans_src                                                           \n",
       "trans_dest                                                          \n",
       "Name: 16, dtype: object"
      ]
     },
     "execution_count": 74,
     "metadata": {},
     "output_type": "execute_result"
    }
   ],
   "source": [
    "df.iloc[16]"
   ]
  },
  {
   "cell_type": "code",
   "execution_count": 75,
   "metadata": {},
   "outputs": [
    {
     "data": {
      "text/plain": [
       "'it'"
      ]
     },
     "execution_count": 75,
     "metadata": {},
     "output_type": "execute_result"
    }
   ],
   "source": [
    "detect(df.tweet[16])"
   ]
  }
 ],
 "metadata": {
  "kernelspec": {
   "display_name": "Python 3",
   "language": "python",
   "name": "python3"
  },
  "language_info": {
   "codemirror_mode": {
    "name": "ipython",
    "version": 3
   },
   "file_extension": ".py",
   "mimetype": "text/x-python",
   "name": "python",
   "nbconvert_exporter": "python",
   "pygments_lexer": "ipython3",
   "version": "3.8.5"
  }
 },
 "nbformat": 4,
 "nbformat_minor": 4
}
