{
 "cells": [
  {
   "cell_type": "code",
   "execution_count": 1,
   "metadata": {},
   "outputs": [
    {
     "name": "stdout",
     "output_type": "stream",
     "text": [
      "1.2.3\n"
     ]
    }
   ],
   "source": [
    "# Import packages to use\n",
    "import twint\n",
    "import numpy as np\n",
    "import pickle\n",
    "import pandas as pd\n",
    "import time\n",
    "import math\n",
    "from collections import Counter\n",
    "from datetime import datetime, timedelta\n",
    "import matplotlib.pyplot as plt\n",
    "%matplotlib inline\n",
    "\n",
    "# Patches asyncio to allow the running of multiple event loops in Jupyter Notebooks.\n",
    "# Fixes: \"RuntimeError: This event loop is already running\"\n",
    "import nest_asyncio\n",
    "\n",
    "nest_asyncio.apply()\n",
    "print(pd.__version__)"
   ]
  },
  {
   "cell_type": "markdown",
   "metadata": {},
   "source": [
    "## Location"
   ]
  },
  {
   "cell_type": "code",
   "execution_count": 9,
   "metadata": {},
   "outputs": [],
   "source": [
    "def getLocationTweets(location_name):\n",
    "    c = twint.Config()\n",
    "    c.Search = location_name\n",
    "    c.Since = \"2019-01-01\"\n",
    "    c.Until = \"2019-12-31\"\n",
    "    c.Pandas = True\n",
    "    c.Hide_output = True\n",
    "    twint.run.Search(c)\n",
    "\n",
    "    return twint.storage.panda.Tweets_df"
   ]
  },
  {
   "cell_type": "code",
   "execution_count": 17,
   "metadata": {},
   "outputs": [
    {
     "name": "stdout",
     "output_type": "stream",
     "text": [
      "[!] No more data! Scraping will stop now.\n",
      "found 0 deleted tweets in this search.\n"
     ]
    }
   ],
   "source": [
    "df_santa_coloma = getLocationTweets('\\\"Santa Coloma de Gramenet\\\" OR \\\"Santa Coloma\\\" OR \\\"Rambla San Sebastian\\\"')\n",
    "pickle.dump(df_santa_coloma, open( \"df_santa_coloma.p\", \"wb\" ) )"
   ]
  },
  {
   "cell_type": "code",
   "execution_count": 20,
   "metadata": {},
   "outputs": [
    {
     "name": "stdout",
     "output_type": "stream",
     "text": [
      "[!] No more data! Scraping will stop now.\n",
      "found 0 deleted tweets in this search.\n"
     ]
    }
   ],
   "source": [
    "df_parque_fluvial = getLocationTweets('\\\"Parque Fluvial del Besos\\\" OR \\\"Parc Fluvial del Besos\\\" OR \\\"Fluvial del Besos\\\"')\n",
    "pickle.dump(df_parque_fluvial, open( \"df_parque_fluvial.p\", \"wb\" ) )"
   ]
  },
  {
   "cell_type": "code",
   "execution_count": 23,
   "metadata": {},
   "outputs": [
    {
     "name": "stdout",
     "output_type": "stream",
     "text": [
      "[!] No more data! Scraping will stop now.\n",
      "found 0 deleted tweets in this search.\n"
     ]
    }
   ],
   "source": [
    "df_parque_molinet = getLocationTweets('\\\"Parque Molinet\\\" OR \\\"Parc Molinet\\\" OR \\\"Molinet\\\"')\n",
    "pickle.dump(df_parque_molinet, open( \"df_parque_molinet.p\", \"wb\" ) )"
   ]
  },
  {
   "cell_type": "code",
   "execution_count": 25,
   "metadata": {},
   "outputs": [
    {
     "name": "stdout",
     "output_type": "stream",
     "text": [
      "[!] No more data! Scraping will stop now.\n",
      "found 0 deleted tweets in this search.\n"
     ]
    }
   ],
   "source": [
    "df_plaza_rellotge = getLocationTweets('\\\"Plaza del Rellotge\\\" OR \\\"Plaça del Rellotge\\\"')\n",
    "pickle.dump(df_plaza_rellotge, open( \"df_plaza_rellotge.p\", \"wb\" ) )"
   ]
  },
  {
   "cell_type": "code",
   "execution_count": 27,
   "metadata": {},
   "outputs": [
    {
     "name": "stdout",
     "output_type": "stream",
     "text": [
      "[!] No more data! Scraping will stop now.\n",
      "found 0 deleted tweets in this search.\n"
     ]
    }
   ],
   "source": [
    "df_parque_can_zam = getLocationTweets('\\\"Parque Can Zam\\\" OR \\\"Parc Can Zam\\\" OR \\\"Can Zam\\\"')\n",
    "pickle.dump(df_parque_can_zam, open( \"df_parque_can_zam.p\", \"wb\" ) )"
   ]
  },
  {
   "cell_type": "code",
   "execution_count": 29,
   "metadata": {},
   "outputs": [
    {
     "name": "stdout",
     "output_type": "stream",
     "text": [
      "[!] No more data! Scraping will stop now.\n",
      "found 0 deleted tweets in this search.\n"
     ]
    }
   ],
   "source": [
    "df_instituto_can_peixauet = getLocationTweets('\\\"Instituto Can Peixauet\\\" OR \\\"Institut Can Peixauet\\\" OR \\\"Can Peixauet\\\"')\n",
    "pickle.dump(df_instituto_can_peixauet, open( \"df_instituto_can_peixauet.p\", \"wb\" ) )"
   ]
  },
  {
   "cell_type": "code",
   "execution_count": 30,
   "metadata": {},
   "outputs": [
    {
     "name": "stdout",
     "output_type": "stream",
     "text": [
      "[!] No more data! Scraping will stop now.\n",
      "found 0 deleted tweets in this search.\n"
     ]
    }
   ],
   "source": [
    "df_parque_gran_sol = getLocationTweets('\\\"Parque Gran Sol\\\" OR \\\"Parc Gran Sol\\\" OR \\\"Gran Sol\\\"')\n",
    "pickle.dump(df_parque_gran_sol, open( \"df_parque_gran_sol.p\", \"wb\" ) )"
   ]
  },
  {
   "cell_type": "code",
   "execution_count": 31,
   "metadata": {},
   "outputs": [
    {
     "name": "stdout",
     "output_type": "stream",
     "text": [
      "[!] No more data! Scraping will stop now.\n",
      "found 0 deleted tweets in this search.\n"
     ]
    }
   ],
   "source": [
    "df_escuela_tanit = getLocationTweets('\\\"Escuela Tanit\\\" OR \\\"Escola Tanit\\\"')\n",
    "pickle.dump(df_escuela_tanit, open( \"df_escuela_tanit.p\", \"wb\" ) )"
   ]
  },
  {
   "cell_type": "code",
   "execution_count": 33,
   "metadata": {},
   "outputs": [
    {
     "name": "stdout",
     "output_type": "stream",
     "text": [
      "[!] No more data! Scraping will stop now.\n",
      "found 0 deleted tweets in this search.\n"
     ]
    }
   ],
   "source": [
    "df_instituto_terra_roja = getLocationTweets('\\\"Instituto Terra Roja\\\" OR \\\"Institut Terra Roja\\\" OR \\\"Terra Roja\\\"')\n",
    "pickle.dump(df_instituto_terra_roja, open( \"df_instituto_terra_roja.p\", \"wb\" ) )"
   ]
  },
  {
   "cell_type": "code",
   "execution_count": 10,
   "metadata": {},
   "outputs": [
    {
     "name": "stdout",
     "output_type": "stream",
     "text": [
      "[!] No more data! Scraping will stop now.\n",
      "found 0 deleted tweets in this search.\n"
     ]
    }
   ],
   "source": [
    "df_instituto_gassol = getLocationTweets('\\\"Instituto Gassol\\\" OR \\\"Institut Gassol\\\"')\n",
    "pickle.dump(df_instituto_gassol, open( \"df_instituto_gassol.p\", \"wb\" ) )"
   ]
  },
  {
   "cell_type": "code",
   "execution_count": 40,
   "metadata": {},
   "outputs": [
    {
     "name": "stdout",
     "output_type": "stream",
     "text": [
      "[!] No more data! Scraping will stop now.\n",
      "found 0 deleted tweets in this search.\n"
     ]
    }
   ],
   "source": [
    "df_CAP = getLocationTweets('\\\"CAP Santa Rosa\\\"')\n",
    "pickle.dump(df_CAP, open( \"df_CAP.p\", \"wb\" ) )"
   ]
  },
  {
   "cell_type": "code",
   "execution_count": 41,
   "metadata": {},
   "outputs": [
    {
     "name": "stdout",
     "output_type": "stream",
     "text": [
      "[!] No more data! Scraping will stop now.\n",
      "found 0 deleted tweets in this search.\n"
     ]
    }
   ],
   "source": [
    "df_del_fondo = getLocationTweets('\\\"Mercado del Fondo\\\" OR \\\"Mercat del Fondo\\\" OR \\\"del Fondo\\\"')\n",
    "pickle.dump(df_del_fondo, open( \"df_del_fondo.p\", \"wb\" ) )"
   ]
  },
  {
   "cell_type": "code",
   "execution_count": 42,
   "metadata": {},
   "outputs": [
    {
     "name": "stdout",
     "output_type": "stream",
     "text": [
      "[!] No more data! Scraping will stop now.\n",
      "found 0 deleted tweets in this search.\n"
     ]
    }
   ],
   "source": [
    "df_cinto = getLocationTweets('\\\"Cinto Verdaguer\\\"')\n",
    "pickle.dump(df_cinto, open( \"df_cinto\", \"wb\" ) )"
   ]
  },
  {
   "cell_type": "code",
   "execution_count": 43,
   "metadata": {},
   "outputs": [
    {
     "name": "stdout",
     "output_type": "stream",
     "text": [
      "[!] No more data! Scraping will stop now.\n",
      "found 0 deleted tweets in this search.\n"
     ]
    }
   ],
   "source": [
    "df_nus_trinitat = getLocationTweets('\\\"Nus de la Trinitat\\\"')\n",
    "pickle.dump(df_nus_trinitat, open( \"df_nus_trinitat\", \"wb\" ) )"
   ]
  },
  {
   "cell_type": "code",
   "execution_count": 2,
   "metadata": {},
   "outputs": [],
   "source": [
    "df_santa_coloma = pickle.load(open(\"df_santa_coloma.p\", \"rb\"))\n",
    "df_parque_fluvial = pickle.load(open(\"df_parque_fluvial.p\", \"rb\"))\n",
    "df_parque_molinet = pickle.load(open(\"df_parque_molinet.p\", \"rb\"))\n",
    "df_plaza_rellotge = pickle.load(open(\"df_plaza_rellotge.p\", \"rb\"))\n",
    "df_parque_can_zam = pickle.load(open(\"df_parque_can_zam.p\", \"rb\"))\n",
    "df_instituto_can_peixauet = pickle.load(open(\"df_instituto_can_peixauet.p\", \"rb\"))\n",
    "df_parque_gran_sol = pickle.load(open(\"df_parque_gran_sol.p\", \"rb\"))\n",
    "df_escuela_tanit = pickle.load(open(\"df_escuela_tanit.p\", \"rb\"))\n",
    "df_instituto_terra_roja = pickle.load(open(\"df_instituto_terra_roja.p\", \"rb\"))\n",
    "df_instituto_gassol = pickle.load(open(\"df_instituto_gassol.p\", \"rb\"))\n",
    "df_CAP = pickle.load(open(\"df_CAP.p\", \"rb\"))\n",
    "df_del_fondo = pickle.load(open(\"df_del_fondo.p\", \"rb\"))\n",
    "df_cinto = pickle.load(open(\"df_cinto\", \"rb\"))\n",
    "df_nus_trinitat = pickle.load(open(\"df_nus_trinitat\", \"rb\"))"
   ]
  },
  {
   "cell_type": "markdown",
   "metadata": {},
   "source": [
    "## Collect stats"
   ]
  },
  {
   "cell_type": "code",
   "execution_count": 3,
   "metadata": {},
   "outputs": [],
   "source": [
    "def changeTimezone(df):\n",
    "    df[\"times\"] = df[\"date\"] + df[\"timezone\"]\n",
    "    df[\"times\"] = pd.to_datetime(df[\"times\"], format=\"%Y-%m-%d %H:%M:%S%z\", utc=True)\n",
    "    df[\"times\"] = df[\"times\"].dt.tz_convert(\"Europe/Madrid\")\n",
    "    \n",
    "    df[\"weekday\"] = df[\"times\"].dt.dayofweek\n",
    "    \n",
    "    return df\n",
    "\n",
    "def getStats(df):\n",
    "    stats = dict()\n",
    "    sample_size = len(df)\n",
    "    \n",
    "    stats[\"size\"] = sample_size\n",
    "    \n",
    "    if (sample_size == 0):\n",
    "        return stats\n",
    "    \n",
    "    df = changeTimezone(df)\n",
    "    lang_counts = Counter(df[\"language\"])\n",
    "    lang_counts =  dict(sorted(lang_counts.items(), reverse=True, key=lambda item: item[1]))\n",
    "    for k,v in lang_counts.items():\n",
    "        proportion = v / sample_size\n",
    "        raw_and_proportion = str(v) + \" \" + str(proportion)\n",
    "        lang_counts[k] = raw_and_proportion\n",
    "    stats[\"language\"] = dict(lang_counts)\n",
    "    \n",
    "    days_counts = Counter(df[\"weekday\"])\n",
    "    days = dict()\n",
    "    days[\"weekends\"] = days_counts[5] + days_counts[6]\n",
    "    days[\"weekdays\"] = days_counts[0] + days_counts[1] + days_counts[2] + days_counts[3] + days_counts[4]\n",
    "    \n",
    "    total_days = (int(days[\"weekends\"]) + int(days[\"weekdays\"]))\n",
    "    for k,v in days.items():\n",
    "        proportion = v / total_days\n",
    "        raw_and_proportion = str(v) + \" \" + str(proportion)\n",
    "        days[k] = raw_and_proportion\n",
    "    stats[\"days\"] = days\n",
    "    \n",
    "    return stats"
   ]
  },
  {
   "cell_type": "code",
   "execution_count": 14,
   "metadata": {},
   "outputs": [
    {
     "name": "stdout",
     "output_type": "stream",
     "text": [
      "Santa Coloma de Gramanet\n",
      "frequency: 25895 / user count: 10032 / freq per user: 2.5812400318979267\n",
      "size\n",
      "25895\n",
      "\n",
      "language\n",
      "ca 12993 0.5017570959644719\n",
      "es 11315 0.436956941494497\n",
      "en 459 0.017725429619617688\n",
      "pt 220 0.008495848619424599\n",
      "it 169 0.006526356439467079\n",
      "ja 162 0.006256033983394478\n",
      "fr 109 0.004209306815987642\n",
      "ro 75 0.0028963120293492954\n",
      "in 67 0.002587372079552037\n",
      "pl 67 0.002587372079552037\n",
      "und 61 0.0023556671172040933\n",
      "tr 42 0.0016219347364356054\n",
      "fi 25 0.0009654373431164317\n",
      "nl 20 0.0007723498744931454\n",
      "et 13 0.0005020274184205445\n",
      "no 12 0.0004634099246958872\n",
      "da 12 0.0004634099246958872\n",
      "cs 10 0.0003861749372465727\n",
      "sv 10 0.0003861749372465727\n",
      "ht 9 0.00034755744352191545\n",
      "vi 9 0.00034755744352191545\n",
      "de 8 0.00030893994979725814\n",
      "hu 5 0.00019308746862328635\n",
      "lt 4 0.00015446997489862907\n",
      "sl 4 0.00015446997489862907\n",
      "cy 4 0.00015446997489862907\n",
      "tl 3 0.0001158524811739718\n",
      "eu 3 0.0001158524811739718\n",
      "lv 2 7.723498744931454e-05\n",
      "bn 1 3.861749372465727e-05\n",
      "ar 1 3.861749372465727e-05\n",
      "zh 1 3.861749372465727e-05\n",
      "\n",
      "days\n",
      "weekends 7230 0.2792044796292721\n",
      "weekdays 18665 0.7207955203707279\n",
      "\n",
      "-----------------------------\n",
      "Fluvial del Besos\n",
      "frequency: 274 / user count: 145 / freq per user: 1.889655172413793\n",
      "size\n",
      "274\n",
      "\n",
      "language\n",
      "ca 213 0.7773722627737226\n",
      "es 60 0.21897810218978103\n",
      "it 1 0.0036496350364963502\n",
      "\n",
      "days\n",
      "weekends 57 0.20802919708029197\n",
      "weekdays 217 0.791970802919708\n",
      "\n",
      "-----------------------------\n",
      "Parque Molinet\n",
      "frequency: 2508 / user count: 722 / freq per user: 3.473684210526316\n",
      "size\n",
      "2508\n",
      "\n",
      "language\n",
      "fr 821 0.3273524720893142\n",
      "ca 569 0.22687400318979267\n",
      "en 417 0.16626794258373206\n",
      "und 362 0.14433811802232854\n",
      "es 291 0.11602870813397129\n",
      "fi 6 0.0023923444976076554\n",
      "de 6 0.0023923444976076554\n",
      "it 6 0.0023923444976076554\n",
      "ht 5 0.001993620414673046\n",
      "pt 4 0.001594896331738437\n",
      "eu 4 0.001594896331738437\n",
      "pl 3 0.0011961722488038277\n",
      "cy 3 0.0011961722488038277\n",
      "nl 3 0.0011961722488038277\n",
      "tl 2 0.0007974481658692185\n",
      "ja 2 0.0007974481658692185\n",
      "ro 1 0.00039872408293460925\n",
      "no 1 0.00039872408293460925\n",
      "in 1 0.00039872408293460925\n",
      "et 1 0.00039872408293460925\n",
      "\n",
      "days\n",
      "weekends 776 0.3094098883572568\n",
      "weekdays 1732 0.6905901116427432\n",
      "\n",
      "-----------------------------\n",
      "Plaza del Rellotge\n",
      "frequency: 107 / user count: 47 / freq per user: 2.276595744680851\n",
      "size\n",
      "107\n",
      "\n",
      "language\n",
      "ca 107 1.0\n",
      "\n",
      "days\n",
      "weekends 23 0.21495327102803738\n",
      "weekdays 84 0.7850467289719626\n",
      "\n",
      "-----------------------------\n",
      "Parque Can Zam\n",
      "frequency: 813 / user count: 361 / freq per user: 2.25207756232687\n",
      "size\n",
      "813\n",
      "\n",
      "language\n",
      "ca 439 0.5399753997539976\n",
      "es 284 0.34932349323493234\n",
      "en 51 0.06273062730627306\n",
      "in 7 0.008610086100861008\n",
      "tr 7 0.008610086100861008\n",
      "ro 7 0.008610086100861008\n",
      "und 6 0.007380073800738007\n",
      "ht 4 0.004920049200492005\n",
      "pt 3 0.0036900369003690036\n",
      "it 2 0.0024600246002460025\n",
      "pl 1 0.0012300123001230013\n",
      "nl 1 0.0012300123001230013\n",
      "fi 1 0.0012300123001230013\n",
      "\n",
      "days\n",
      "weekends 230 0.2829028290282903\n",
      "weekdays 583 0.7170971709717097\n",
      "\n",
      "-----------------------------\n",
      "Instituto Can Peixauet\n",
      "frequency: 525 / user count: 170 / freq per user: 3.088235294117647\n",
      "size\n",
      "525\n",
      "\n",
      "language\n",
      "ca 382 0.7276190476190476\n",
      "es 75 0.14285714285714285\n",
      "pt 64 0.1219047619047619\n",
      "en 2 0.0038095238095238095\n",
      "cs 1 0.0019047619047619048\n",
      "eu 1 0.0019047619047619048\n",
      "\n",
      "days\n",
      "weekends 201 0.38285714285714284\n",
      "weekdays 324 0.6171428571428571\n",
      "\n",
      "-----------------------------\n",
      "Parque Gran Sol\n",
      "frequency: 3694 / user count: 2289 / freq per user: 1.6138051550895587\n",
      "size\n",
      "3694\n",
      "\n",
      "language\n",
      "es 3309 0.8957769355711965\n",
      "ca 159 0.043042772062804546\n",
      "en 131 0.03546291283161884\n",
      "pt 20 0.005414185165132647\n",
      "it 16 0.004331348132106118\n",
      "ht 14 0.003789929615592853\n",
      "fr 12 0.0032485110990795887\n",
      "ja 9 0.0024363833243096914\n",
      "eu 6 0.0016242555495397943\n",
      "nl 4 0.0010828370330265296\n",
      "ru 4 0.0010828370330265296\n",
      "de 3 0.0008121277747698972\n",
      "in 2 0.0005414185165132648\n",
      "ko 2 0.0005414185165132648\n",
      "cs 1 0.0002707092582566324\n",
      "sv 1 0.0002707092582566324\n",
      "und 1 0.0002707092582566324\n",
      "\n",
      "days\n",
      "weekends 1042 0.2820790471034109\n",
      "weekdays 2652 0.7179209528965891\n",
      "\n",
      "-----------------------------\n",
      "Escuela Tanit\n",
      "frequency: 15 / user count: 13 / freq per user: 1.1538461538461537\n",
      "size\n",
      "15\n",
      "\n",
      "language\n",
      "ca 12 0.8\n",
      "es 3 0.2\n",
      "\n",
      "days\n",
      "weekends 2 0.13333333333333333\n",
      "weekdays 13 0.8666666666666667\n",
      "\n",
      "-----------------------------\n",
      "Instituto Terra Roja\n",
      "frequency: 106 / user count: 62 / freq per user: 1.7096774193548387\n",
      "size\n",
      "106\n",
      "\n",
      "language\n",
      "ca 72 0.6792452830188679\n",
      "es 32 0.3018867924528302\n",
      "pt 1 0.009433962264150943\n",
      "en 1 0.009433962264150943\n",
      "\n",
      "days\n",
      "weekends 19 0.1792452830188679\n",
      "weekdays 87 0.8207547169811321\n",
      "\n",
      "-----------------------------\n",
      "Instituto Gassol\n",
      "CAP Santa Rosa\n",
      "frequency: 5 / user count: 4 / freq per user: 1.25\n",
      "size\n",
      "5\n",
      "\n",
      "language\n",
      "es 3 0.6\n",
      "it 1 0.2\n",
      "ca 1 0.2\n",
      "\n",
      "days\n",
      "weekends 0 0.0\n",
      "weekdays 5 1.0\n",
      "\n",
      "-----------------------------\n",
      "Cinto Verdaguer\n",
      "frequency: 347 / user count: 256 / freq per user: 1.35546875\n",
      "size\n",
      "347\n",
      "\n",
      "language\n",
      "ca 279 0.8040345821325648\n",
      "es 57 0.1642651296829971\n",
      "pt 6 0.01729106628242075\n",
      "en 2 0.005763688760806916\n",
      "no 1 0.002881844380403458\n",
      "fr 1 0.002881844380403458\n",
      "nl 1 0.002881844380403458\n",
      "\n",
      "days\n",
      "weekends 86 0.2478386167146974\n",
      "weekdays 261 0.7521613832853026\n",
      "\n",
      "-----------------------------\n",
      "Mercado del Fondo\n",
      "frequency: 202657 / user count: 135785 / freq per user: 1.4924844423168981\n",
      "size\n",
      "202657\n",
      "\n",
      "language\n",
      "es 192876 0.9517361847851296\n",
      "it 8797 0.043408320462653645\n",
      "ca 627 0.00309389757077229\n",
      "en 145 0.0007154946535278821\n",
      "pt 76 0.0003750178873663382\n",
      "in 32 0.00015790226836477397\n",
      "ja 15 7.40166882959878e-05\n",
      "ht 13 6.414779652318943e-05\n",
      "und 11 5.427890475039105e-05\n",
      "fr 10 4.934445886399187e-05\n",
      "tr 9 4.4410012977592684e-05\n",
      "cy 8 3.947556709119349e-05\n",
      "eu 6 2.960667531839512e-05\n",
      "ro 5 2.4672229431995934e-05\n",
      "tl 4 1.9737783545596747e-05\n",
      "zh 4 1.9737783545596747e-05\n",
      "et 3 1.480333765919756e-05\n",
      "ar 3 1.480333765919756e-05\n",
      "de 2 9.868891772798373e-06\n",
      "no 2 9.868891772798373e-06\n",
      "nl 2 9.868891772798373e-06\n",
      "vi 1 4.934445886399187e-06\n",
      "sl 1 4.934445886399187e-06\n",
      "da 1 4.934445886399187e-06\n",
      "pl 1 4.934445886399187e-06\n",
      "hu 1 4.934445886399187e-06\n",
      "cs 1 4.934445886399187e-06\n",
      "lt 1 4.934445886399187e-06\n",
      "\n",
      "days\n",
      "weekends 46694 0.23040901621952362\n",
      "weekdays 155963 0.7695909837804764\n",
      "\n",
      "-----------------------------\n",
      "Nus de la Trinitat\n",
      "frequency: 659 / user count: 132 / freq per user: 4.992424242424242\n",
      "size\n",
      "659\n",
      "\n",
      "language\n",
      "ca 638 0.9681335356600911\n",
      "es 20 0.030349013657056147\n",
      "fr 1 0.0015174506828528073\n",
      "\n",
      "days\n",
      "weekends 102 0.15477996965098634\n",
      "weekdays 557 0.8452200303490136\n",
      "\n",
      "-----------------------------\n"
     ]
    }
   ],
   "source": [
    "location_tweets = {\n",
    "    \"Santa Coloma de Gramanet\" : df_santa_coloma,\n",
    "    \"Fluvial del Besos\" : df_parque_fluvial,\n",
    "    \"Parque Molinet\" : df_parque_molinet,\n",
    "    \"Plaza del Rellotge\" : df_plaza_rellotge,\n",
    "    \"Parque Can Zam\" : df_parque_can_zam,\n",
    "    \"Instituto Can Peixauet\" : df_instituto_can_peixauet,\n",
    "    \"Parque Gran Sol\" : df_parque_gran_sol,\n",
    "    \"Escuela Tanit\" : df_escuela_tanit,\n",
    "    \"Instituto Terra Roja\" : df_instituto_terra_roja,\n",
    "    \"Instituto Gassol\" : df_instituto_gassol,\n",
    "    \"CAP Santa Rosa\" : df_CAP,\n",
    "    \"Cinto Verdaguer\" : df_cinto,\n",
    "    \"Mercado del Fondo\" : df_del_fondo,\n",
    "    \"Nus de la Trinitat\" : df_nus_trinitat\n",
    "}\n",
    "\n",
    "for k,v in location_tweets.items():\n",
    "    print(k)\n",
    "    if (len(v) > 0):\n",
    "        if (len(set(v[\"username\"])) != 0):\n",
    "            print(\"frequency:\", len(v), \"/ user count:\", len(set(v[\"username\"])), \"/ freq per user:\",len(v) / len(set(v[\"username\"])))\n",
    "        df_modified = getStats(v)\n",
    "        for k1, v1 in df_modified.items():\n",
    "            print(k1)\n",
    "            if (type(v1) == type(dict())):\n",
    "                for k2, v2 in v1.items():\n",
    "                    print(k2, v2)\n",
    "            else: print(v1)\n",
    "            print()\n",
    "        print(\"-----------------------------\")"
   ]
  }
 ],
 "metadata": {
  "kernelspec": {
   "display_name": "Python 3",
   "language": "python",
   "name": "python3"
  },
  "language_info": {
   "codemirror_mode": {
    "name": "ipython",
    "version": 3
   },
   "file_extension": ".py",
   "mimetype": "text/x-python",
   "name": "python",
   "nbconvert_exporter": "python",
   "pygments_lexer": "ipython3",
   "version": "3.7.6"
  }
 },
 "nbformat": 4,
 "nbformat_minor": 4
}
