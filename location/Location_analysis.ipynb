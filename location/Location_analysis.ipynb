{
 "cells": [
  {
   "cell_type": "code",
   "execution_count": 1,
   "metadata": {},
   "outputs": [
    {
     "name": "stdout",
     "output_type": "stream",
     "text": [
      "1.1.3\n"
     ]
    }
   ],
   "source": [
    "# Import packages to use\n",
    "import twint\n",
    "import numpy as np\n",
    "import pickle\n",
    "import pandas as pd\n",
    "import time\n",
    "import math\n",
    "from collections import Counter\n",
    "from datetime import datetime, timedelta\n",
    "import matplotlib.pyplot as plt\n",
    "%matplotlib inline\n",
    "\n",
    "# Patches asyncio to allow the running of multiple event loops in Jupyter Notebooks.\n",
    "# Fixes: \"RuntimeError: This event loop is already running\"\n",
    "import nest_asyncio\n",
    "\n",
    "nest_asyncio.apply()\n",
    "print(pd.__version__)"
   ]
  },
  {
   "cell_type": "markdown",
   "metadata": {},
   "source": [
    "## Location"
   ]
  },
  {
   "cell_type": "code",
   "execution_count": 2,
   "metadata": {},
   "outputs": [],
   "source": [
    "def getLocationTweets(location_name):\n",
    "    c = twint.Config()\n",
    "    c.Search = location_name\n",
    "    c.Since = \"2019-01-01\"\n",
    "    c.Until = \"2019-12-31\"\n",
    "    c.Pandas = True\n",
    "    c.Hide_output = True\n",
    "    twint.run.Search(c)\n",
    "\n",
    "    return twint.storage.panda.Tweets_df"
   ]
  },
  {
   "cell_type": "code",
   "execution_count": 17,
   "metadata": {},
   "outputs": [
    {
     "name": "stdout",
     "output_type": "stream",
     "text": [
      "[!] No more data! Scraping will stop now.\n",
      "found 0 deleted tweets in this search.\n"
     ]
    }
   ],
   "source": [
    "df_santa_coloma = getLocationTweets('\\\"Santa Coloma de Gramenet\\\" OR \\\"Santa Coloma\\\" OR \\\"Rambla San Sebastian\\\"')\n",
    "pickle.dump(df_santa_coloma, open( \"df_santa_coloma.p\", \"wb\" ) )"
   ]
  },
  {
   "cell_type": "code",
   "execution_count": 20,
   "metadata": {},
   "outputs": [
    {
     "name": "stdout",
     "output_type": "stream",
     "text": [
      "[!] No more data! Scraping will stop now.\n",
      "found 0 deleted tweets in this search.\n"
     ]
    }
   ],
   "source": [
    "df_parque_fluvial = getLocationTweets('\\\"Parque Fluvial del Besos\\\" OR \\\"Parc Fluvial del Besos\\\" OR \\\"Fluvial del Besos\\\"')\n",
    "pickle.dump(df_parque_fluvial, open( \"df_parque_fluvial.p\", \"wb\" ) )"
   ]
  },
  {
   "cell_type": "code",
   "execution_count": 23,
   "metadata": {},
   "outputs": [
    {
     "name": "stdout",
     "output_type": "stream",
     "text": [
      "[!] No more data! Scraping will stop now.\n",
      "found 0 deleted tweets in this search.\n"
     ]
    }
   ],
   "source": [
    "df_parque_molinet = getLocationTweets('\\\"Parque Molinet\\\" OR \\\"Parc Molinet\\\" OR \\\"Molinet\\\"')\n",
    "pickle.dump(df_parque_molinet, open( \"df_parque_molinet.p\", \"wb\" ) )"
   ]
  },
  {
   "cell_type": "code",
   "execution_count": 25,
   "metadata": {},
   "outputs": [
    {
     "name": "stdout",
     "output_type": "stream",
     "text": [
      "[!] No more data! Scraping will stop now.\n",
      "found 0 deleted tweets in this search.\n"
     ]
    }
   ],
   "source": [
    "df_plaza_rellotge = getLocationTweets('\\\"Plaza del Rellotge\\\" OR \\\"Plaça del Rellotge\\\"')\n",
    "pickle.dump(df_plaza_rellotge, open( \"df_plaza_rellotge.p\", \"wb\" ) )"
   ]
  },
  {
   "cell_type": "code",
   "execution_count": 27,
   "metadata": {},
   "outputs": [
    {
     "name": "stdout",
     "output_type": "stream",
     "text": [
      "[!] No more data! Scraping will stop now.\n",
      "found 0 deleted tweets in this search.\n"
     ]
    }
   ],
   "source": [
    "df_parque_can_zam = getLocationTweets('\\\"Parque Can Zam\\\" OR \\\"Parc Can Zam\\\" OR \\\"Can Zam\\\"')\n",
    "pickle.dump(df_parque_can_zam, open( \"df_parque_can_zam.p\", \"wb\" ) )"
   ]
  },
  {
   "cell_type": "code",
   "execution_count": 29,
   "metadata": {},
   "outputs": [
    {
     "name": "stdout",
     "output_type": "stream",
     "text": [
      "[!] No more data! Scraping will stop now.\n",
      "found 0 deleted tweets in this search.\n"
     ]
    }
   ],
   "source": [
    "df_instituto_can_peixauet = getLocationTweets('\\\"Instituto Can Peixauet\\\" OR \\\"Institut Can Peixauet\\\" OR \\\"Can Peixauet\\\"')\n",
    "pickle.dump(df_instituto_can_peixauet, open( \"df_instituto_can_peixauet.p\", \"wb\" ) )"
   ]
  },
  {
   "cell_type": "code",
   "execution_count": 30,
   "metadata": {},
   "outputs": [
    {
     "name": "stdout",
     "output_type": "stream",
     "text": [
      "[!] No more data! Scraping will stop now.\n",
      "found 0 deleted tweets in this search.\n"
     ]
    }
   ],
   "source": [
    "df_parque_gran_sol = getLocationTweets('\\\"Parque Gran Sol\\\" OR \\\"Parc Gran Sol\\\" OR \\\"Gran Sol\\\"')\n",
    "pickle.dump(df_parque_gran_sol, open( \"df_parque_gran_sol.p\", \"wb\" ) )"
   ]
  },
  {
   "cell_type": "code",
   "execution_count": 31,
   "metadata": {},
   "outputs": [
    {
     "name": "stdout",
     "output_type": "stream",
     "text": [
      "[!] No more data! Scraping will stop now.\n",
      "found 0 deleted tweets in this search.\n"
     ]
    }
   ],
   "source": [
    "df_escuela_tanit = getLocationTweets('\\\"Escuela Tanit\\\" OR \\\"Escola Tanit\\\"')\n",
    "pickle.dump(df_escuela_tanit, open( \"df_escuela_tanit.p\", \"wb\" ) )"
   ]
  },
  {
   "cell_type": "code",
   "execution_count": 33,
   "metadata": {},
   "outputs": [
    {
     "name": "stdout",
     "output_type": "stream",
     "text": [
      "[!] No more data! Scraping will stop now.\n",
      "found 0 deleted tweets in this search.\n"
     ]
    }
   ],
   "source": [
    "df_instituto_terra_roja = getLocationTweets('\\\"Instituto Terra Roja\\\" OR \\\"Institut Terra Roja\\\" OR \\\"Terra Roja\\\"')\n",
    "pickle.dump(df_instituto_terra_roja, open( \"df_instituto_terra_roja.p\", \"wb\" ) )"
   ]
  },
  {
   "cell_type": "code",
   "execution_count": 35,
   "metadata": {},
   "outputs": [
    {
     "name": "stdout",
     "output_type": "stream",
     "text": [
      "[!] No more data! Scraping will stop now.\n",
      "found 0 deleted tweets in this search.\n"
     ]
    }
   ],
   "source": [
    "df_instituto_gassol = getLocationTweets('\\\"Instituto Gassol\\\" OR \\\"Institut Gassol\\\"')\n",
    "pickle.dump(df_instituto_gassol, open( \"df_instituto_gassol.p\", \"wb\" ) )"
   ]
  },
  {
   "cell_type": "code",
   "execution_count": 40,
   "metadata": {},
   "outputs": [
    {
     "name": "stdout",
     "output_type": "stream",
     "text": [
      "[!] No more data! Scraping will stop now.\n",
      "found 0 deleted tweets in this search.\n"
     ]
    }
   ],
   "source": [
    "df_CAP = getLocationTweets('\\\"CAP Santa Rosa\\\"')\n",
    "pickle.dump(df_CAP, open( \"df_CAP.p\", \"wb\" ) )"
   ]
  },
  {
   "cell_type": "code",
   "execution_count": 41,
   "metadata": {},
   "outputs": [
    {
     "name": "stdout",
     "output_type": "stream",
     "text": [
      "[!] No more data! Scraping will stop now.\n",
      "found 0 deleted tweets in this search.\n"
     ]
    }
   ],
   "source": [
    "df_del_fondo = getLocationTweets('\\\"Mercado del Fondo\\\" OR \\\"Mercat del Fondo\\\" OR \\\"del Fondo\\\"')\n",
    "pickle.dump(df_del_fondo, open( \"df_del_fondo.p\", \"wb\" ) )"
   ]
  },
  {
   "cell_type": "code",
   "execution_count": 42,
   "metadata": {},
   "outputs": [
    {
     "name": "stdout",
     "output_type": "stream",
     "text": [
      "[!] No more data! Scraping will stop now.\n",
      "found 0 deleted tweets in this search.\n"
     ]
    }
   ],
   "source": [
    "df_cinto = getLocationTweets('\\\"Cinto Verdaguer\\\"')\n",
    "pickle.dump(df_cinto, open( \"df_cinto\", \"wb\" ) )"
   ]
  },
  {
   "cell_type": "code",
   "execution_count": 43,
   "metadata": {},
   "outputs": [
    {
     "name": "stdout",
     "output_type": "stream",
     "text": [
      "[!] No more data! Scraping will stop now.\n",
      "found 0 deleted tweets in this search.\n"
     ]
    }
   ],
   "source": [
    "df_nus_trinitat = getLocationTweets('\\\"Nus de la Trinitat\\\"')\n",
    "pickle.dump(df_nus_trinitat, open( \"df_nus_trinitat\", \"wb\" ) )"
   ]
  },
  {
   "cell_type": "code",
   "execution_count": 7,
   "metadata": {},
   "outputs": [],
   "source": [
    "df_santa_coloma = pickle.load(open(\"df_santa_coloma.p\", \"rb\"))\n",
    "df_parque_fluvial = pickle.load(open(\"df_parque_fluvial.p\", \"rb\"))\n",
    "df_parque_molinet = pickle.load(open(\"df_parque_molinet.p\", \"rb\"))\n",
    "df_plaza_rellotge = pickle.load(open(\"df_plaza_rellotge.p\", \"rb\"))\n",
    "df_parque_can_zam = pickle.load(open(\"df_parque_can_zam.p\", \"rb\"))\n",
    "df_instituto_can_peixauet = pickle.load(open(\"df_instituto_can_peixauet.p\", \"rb\"))\n",
    "df_parque_gran_sol = pickle.load(open(\"df_parque_gran_sol.p\", \"rb\"))\n",
    "df_escuela_tanit = pickle.load(open(\"df_escuela_tanit.p\", \"rb\"))\n",
    "df_instituto_terra_roja = pickle.load(open(\"df_instituto_terra_roja.p\", \"rb\"))\n",
    "df_instituto_gassol = pickle.load(open(\"df_instituto_gassol.p\", \"rb\"))\n",
    "df_CAP = pickle.load(open(\"df_CAP.p\", \"rb\"))\n",
    "df_del_fondo = pickle.load(open(\"df_del_fondo.p\", \"rb\"))\n",
    "df_cinto = pickle.load(open(\"df_cinto\", \"rb\"))\n",
    "df_nus_trinitat = pickle.load(open(\"df_nus_trinitat\", \"rb\"))"
   ]
  },
  {
   "cell_type": "markdown",
   "metadata": {},
   "source": [
    "## Collect stats"
   ]
  },
  {
   "cell_type": "code",
   "execution_count": 13,
   "metadata": {},
   "outputs": [],
   "source": [
    "def changeTimezone(df):\n",
    "    df[\"times\"] = df[\"date\"] + df[\"timezone\"]\n",
    "    df[\"times\"] = pd.to_datetime(df[\"times\"], format=\"%Y-%m-%d %H:%M:%S%z\")\n",
    "    df[\"times\"] = df[\"times\"].dt.tz_convert(\"Europe/Madrid\")\n",
    "    \n",
    "    df[\"weekday\"] = df[\"times\"].dt.dayofweek\n",
    "    \n",
    "    return df"
   ]
  },
  {
   "cell_type": "code",
   "execution_count": 16,
   "metadata": {},
   "outputs": [
    {
     "data": {
      "text/html": [
       "<div>\n",
       "<style scoped>\n",
       "    .dataframe tbody tr th:only-of-type {\n",
       "        vertical-align: middle;\n",
       "    }\n",
       "\n",
       "    .dataframe tbody tr th {\n",
       "        vertical-align: top;\n",
       "    }\n",
       "\n",
       "    .dataframe thead th {\n",
       "        text-align: right;\n",
       "    }\n",
       "</style>\n",
       "<table border=\"1\" class=\"dataframe\">\n",
       "  <thead>\n",
       "    <tr style=\"text-align: right;\">\n",
       "      <th></th>\n",
       "      <th>times</th>\n",
       "      <th>weekday</th>\n",
       "    </tr>\n",
       "  </thead>\n",
       "  <tbody>\n",
       "    <tr>\n",
       "      <th>400</th>\n",
       "      <td>2019-12-29 02:42:47+01:00</td>\n",
       "      <td>6</td>\n",
       "    </tr>\n",
       "    <tr>\n",
       "      <th>401</th>\n",
       "      <td>2019-12-29 02:42:21+01:00</td>\n",
       "      <td>6</td>\n",
       "    </tr>\n",
       "    <tr>\n",
       "      <th>402</th>\n",
       "      <td>2019-12-29 02:41:54+01:00</td>\n",
       "      <td>6</td>\n",
       "    </tr>\n",
       "    <tr>\n",
       "      <th>403</th>\n",
       "      <td>2019-12-29 02:40:07+01:00</td>\n",
       "      <td>6</td>\n",
       "    </tr>\n",
       "    <tr>\n",
       "      <th>404</th>\n",
       "      <td>2019-12-29 02:37:32+01:00</td>\n",
       "      <td>6</td>\n",
       "    </tr>\n",
       "    <tr>\n",
       "      <th>...</th>\n",
       "      <td>...</td>\n",
       "      <td>...</td>\n",
       "    </tr>\n",
       "    <tr>\n",
       "      <th>595</th>\n",
       "      <td>2019-12-28 17:14:01+01:00</td>\n",
       "      <td>5</td>\n",
       "    </tr>\n",
       "    <tr>\n",
       "      <th>596</th>\n",
       "      <td>2019-12-28 17:11:33+01:00</td>\n",
       "      <td>5</td>\n",
       "    </tr>\n",
       "    <tr>\n",
       "      <th>597</th>\n",
       "      <td>2019-12-28 17:09:58+01:00</td>\n",
       "      <td>5</td>\n",
       "    </tr>\n",
       "    <tr>\n",
       "      <th>598</th>\n",
       "      <td>2019-12-28 17:07:38+01:00</td>\n",
       "      <td>5</td>\n",
       "    </tr>\n",
       "    <tr>\n",
       "      <th>599</th>\n",
       "      <td>2019-12-28 17:04:22+01:00</td>\n",
       "      <td>5</td>\n",
       "    </tr>\n",
       "  </tbody>\n",
       "</table>\n",
       "<p>200 rows × 2 columns</p>\n",
       "</div>"
      ],
      "text/plain": [
       "                        times  weekday\n",
       "400 2019-12-29 02:42:47+01:00        6\n",
       "401 2019-12-29 02:42:21+01:00        6\n",
       "402 2019-12-29 02:41:54+01:00        6\n",
       "403 2019-12-29 02:40:07+01:00        6\n",
       "404 2019-12-29 02:37:32+01:00        6\n",
       "..                        ...      ...\n",
       "595 2019-12-28 17:14:01+01:00        5\n",
       "596 2019-12-28 17:11:33+01:00        5\n",
       "597 2019-12-28 17:09:58+01:00        5\n",
       "598 2019-12-28 17:07:38+01:00        5\n",
       "599 2019-12-28 17:04:22+01:00        5\n",
       "\n",
       "[200 rows x 2 columns]"
      ]
     },
     "execution_count": 16,
     "metadata": {},
     "output_type": "execute_result"
    }
   ],
   "source": [
    "changeTimezone(df_del_fondo)[[\"times\", \"weekday\"]].iloc[400:600]"
   ]
  },
  {
   "cell_type": "code",
   "execution_count": 32,
   "metadata": {},
   "outputs": [],
   "source": [
    "def getStats(df):\n",
    "    stats = dict()\n",
    "    sample_size = len(df)\n",
    "    \n",
    "    df = changeTimezone(df)\n",
    "    \n",
    "    stats[\"size\"] = sample_size\n",
    "    lang_counts = Counter(df[\"language\"])\n",
    "    for k,v in lang_counts.items():\n",
    "        proportion = v / sample_size\n",
    "        raw_and_proportion = str(v) + \" \" + str(proportion)\n",
    "        lang_counts[k] = raw_and_proportion\n",
    "    stats[\"language\"] = dict(lang_counts)\n",
    "    \n",
    "    days_counts = Counter(df[\"weekday\"])\n",
    "    days = dict()\n",
    "    days[\"weekends\"] = days_counts[5] + days_counts[6]\n",
    "    days[\"weekdays\"] = days_counts[0] + days_counts[1] + days_counts[2] + days_counts[3] + days_counts[4]\n",
    "    \n",
    "    total_days = (int(days[\"weekends\"]) + int(days[\"weekdays\"]))\n",
    "    for k,v in days.items():\n",
    "        proportion = v / total_days\n",
    "        raw_and_proportion = str(v) + \" \" + str(proportion)\n",
    "        days[k] = raw_and_proportion\n",
    "    stats[\"days\"] = days\n",
    "    \n",
    "    return stats"
   ]
  },
  {
   "cell_type": "code",
   "execution_count": 33,
   "metadata": {},
   "outputs": [
    {
     "name": "stdout",
     "output_type": "stream",
     "text": [
      "25895\n"
     ]
    },
    {
     "data": {
      "text/plain": [
       "{'size': 25895,\n",
       " 'language': {'ca': '12993 0.5017570959644719',\n",
       "  'pt': '220 0.008495848619424599',\n",
       "  'es': '11315 0.436956941494497',\n",
       "  'ja': '162 0.006256033983394478',\n",
       "  'fr': '109 0.004209306815987642',\n",
       "  'en': '459 0.017725429619617688',\n",
       "  'bn': '1 3.861749372465727e-05',\n",
       "  'tl': '3 0.0001158524811739718',\n",
       "  'in': '67 0.002587372079552037',\n",
       "  'it': '169 0.006526356439467079',\n",
       "  'lt': '4 0.00015446997489862907',\n",
       "  'no': '12 0.0004634099246958872',\n",
       "  'cs': '10 0.0003861749372465727',\n",
       "  'und': '61 0.0023556671172040933',\n",
       "  'ro': '75 0.0028963120293492954',\n",
       "  'tr': '42 0.0016219347364356054',\n",
       "  'et': '13 0.0005020274184205445',\n",
       "  'ht': '9 0.00034755744352191545',\n",
       "  'sv': '10 0.0003861749372465727',\n",
       "  'nl': '20 0.0007723498744931454',\n",
       "  'ar': '1 3.861749372465727e-05',\n",
       "  'de': '8 0.00030893994979725814',\n",
       "  'pl': '67 0.002587372079552037',\n",
       "  'vi': '9 0.00034755744352191545',\n",
       "  'fi': '25 0.0009654373431164317',\n",
       "  'lv': '2 7.723498744931454e-05',\n",
       "  'da': '12 0.0004634099246958872',\n",
       "  'hu': '5 0.00019308746862328635',\n",
       "  'sl': '4 0.00015446997489862907',\n",
       "  'cy': '4 0.00015446997489862907',\n",
       "  'eu': '3 0.0001158524811739718',\n",
       "  'zh': '1 3.861749372465727e-05'},\n",
       " 'days': {'weekends': '7230 0.2792044796292721',\n",
       "  'weekdays': '18665 0.7207955203707279'}}"
      ]
     },
     "execution_count": 33,
     "metadata": {},
     "output_type": "execute_result"
    }
   ],
   "source": [
    "getStats(df_santa_coloma)"
   ]
  },
  {
   "cell_type": "code",
   "execution_count": 116,
   "metadata": {},
   "outputs": [
    {
     "data": {
      "text/html": [
       "<div>\n",
       "<style scoped>\n",
       "    .dataframe tbody tr th:only-of-type {\n",
       "        vertical-align: middle;\n",
       "    }\n",
       "\n",
       "    .dataframe tbody tr th {\n",
       "        vertical-align: top;\n",
       "    }\n",
       "\n",
       "    .dataframe thead th {\n",
       "        text-align: right;\n",
       "    }\n",
       "</style>\n",
       "<table border=\"1\" class=\"dataframe\">\n",
       "  <thead>\n",
       "    <tr style=\"text-align: right;\">\n",
       "      <th></th>\n",
       "      <th>username</th>\n",
       "      <th>tweet</th>\n",
       "      <th>id</th>\n",
       "      <th>date</th>\n",
       "      <th>timezone</th>\n",
       "    </tr>\n",
       "  </thead>\n",
       "  <tbody>\n",
       "    <tr>\n",
       "      <th>0</th>\n",
       "      <td>LizRiver530</td>\n",
       "      <td>@Nestorosp 😆 eso salio del fondo de tu corazón...</td>\n",
       "      <td>1211436548408979458</td>\n",
       "      <td>2019-12-29 18:59:15</td>\n",
       "      <td>-0500</td>\n",
       "    </tr>\n",
       "    <tr>\n",
       "      <th>1</th>\n",
       "      <td>Jerrydady</td>\n",
       "      <td>@mario_dico50 Pero si ahorraron 290 MMDP según...</td>\n",
       "      <td>1211436296989790209</td>\n",
       "      <td>2019-12-29 18:58:15</td>\n",
       "      <td>-0500</td>\n",
       "    </tr>\n",
       "    <tr>\n",
       "      <th>2</th>\n",
       "      <td>NicoAL1901</td>\n",
       "      <td>@Rdiego05 @ppenalozal @kioshikubo1924 @JeanMis...</td>\n",
       "      <td>1211436082874765313</td>\n",
       "      <td>2019-12-29 18:57:24</td>\n",
       "      <td>-0500</td>\n",
       "    </tr>\n",
       "    <tr>\n",
       "      <th>3</th>\n",
       "      <td>Presyisoff</td>\n",
       "      <td>@SuckMyKhezu Te iba a preguntar quién era ese ...</td>\n",
       "      <td>1211435985818529792</td>\n",
       "      <td>2019-12-29 18:57:01</td>\n",
       "      <td>-0500</td>\n",
       "    </tr>\n",
       "    <tr>\n",
       "      <th>4</th>\n",
       "      <td>elsoldepuebla1</td>\n",
       "      <td>#ÚLTIMAHORA Rescatan a hombre del fondo de bar...</td>\n",
       "      <td>1211435478781550592</td>\n",
       "      <td>2019-12-29 18:55:00</td>\n",
       "      <td>-0500</td>\n",
       "    </tr>\n",
       "  </tbody>\n",
       "</table>\n",
       "</div>"
      ],
      "text/plain": [
       "         username                                              tweet  \\\n",
       "0     LizRiver530  @Nestorosp 😆 eso salio del fondo de tu corazón...   \n",
       "1       Jerrydady  @mario_dico50 Pero si ahorraron 290 MMDP según...   \n",
       "2      NicoAL1901  @Rdiego05 @ppenalozal @kioshikubo1924 @JeanMis...   \n",
       "3      Presyisoff  @SuckMyKhezu Te iba a preguntar quién era ese ...   \n",
       "4  elsoldepuebla1  #ÚLTIMAHORA Rescatan a hombre del fondo de bar...   \n",
       "\n",
       "                    id                 date timezone  \n",
       "0  1211436548408979458  2019-12-29 18:59:15    -0500  \n",
       "1  1211436296989790209  2019-12-29 18:58:15    -0500  \n",
       "2  1211436082874765313  2019-12-29 18:57:24    -0500  \n",
       "3  1211435985818529792  2019-12-29 18:57:01    -0500  \n",
       "4  1211435478781550592  2019-12-29 18:55:00    -0500  "
      ]
     },
     "execution_count": 116,
     "metadata": {},
     "output_type": "execute_result"
    }
   ],
   "source": [
    "df_del_fondo[[\"username\", \"tweet\", \"id\", \"date\", \"timezone\"]].head()"
   ]
  },
  {
   "cell_type": "code",
   "execution_count": null,
   "metadata": {},
   "outputs": [],
   "source": []
  },
  {
   "cell_type": "code",
   "execution_count": null,
   "metadata": {},
   "outputs": [],
   "source": []
  }
 ],
 "metadata": {
  "kernelspec": {
   "display_name": "Python 3",
   "language": "python",
   "name": "python3"
  },
  "language_info": {
   "codemirror_mode": {
    "name": "ipython",
    "version": 3
   },
   "file_extension": ".py",
   "mimetype": "text/x-python",
   "name": "python",
   "nbconvert_exporter": "python",
   "pygments_lexer": "ipython3",
   "version": "3.6.12"
  }
 },
 "nbformat": 4,
 "nbformat_minor": 4
}
